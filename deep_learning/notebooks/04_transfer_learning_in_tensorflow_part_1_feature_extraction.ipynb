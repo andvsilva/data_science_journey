{
 "cells": [
  {
   "cell_type": "code",
   "execution_count": 1,
   "metadata": {},
   "outputs": [
    {
     "name": "stdout",
     "output_type": "stream",
     "text": [
      "Notebook last run (end-to-end): 2024-07-24 16:46:20.331458\n"
     ]
    }
   ],
   "source": [
    "import datetime\n",
    "print(f\"Notebook last run (end-to-end): {datetime.datetime.now()}\")"
   ]
  },
  {
   "cell_type": "markdown",
   "metadata": {},
   "source": [
    "## Transfer Learning with TensorFlow Part 1: Feature Extraction"
   ]
  },
  {
   "cell_type": "markdown",
   "metadata": {},
   "source": [
    "We've built a bunch of convolutional neural networks from scratch and they all seem to be learning, however, there is still plenty of room for improvement.\n",
    "\n",
    "To improve our model(s), we could spend a while trying different configurations, adding more layers, changing the learning rate, adjusting the number of neurons per layer and more.\n",
    "\n",
    "However, doing this is very time consuming.\n",
    "\n",
    "Luckily, there's a technique we can use to save time.\n",
    "\n",
    "It's called **transfer learning**, in other words, taking the patterns (also called weights) another model has learned from another problem and using them for our own problem.\n",
    "\n",
    "There are two main benefits to using transfer learning:\n",
    "\n",
    "1. Can leverage an existing neural network architecture proven to work on problems similar to our own.\n",
    "2. Can leverage a working neural network architecture which has already learned patterns on similar data to our own. This often results in achieving great results with less custom data.\n",
    "\n",
    "What this means is, instead of hand-crafting our own neural network architectures or building them from scratch, we can utilise models which have worked for others.\n",
    "\n",
    "And instead of training our own models from scratch on our own datasets, we can take the patterns a model has learned from datasets such as [ImageNet](https://www.image-net.org/) (millions of images of different objects) and use them as the foundation of our own. Doing this often leads to getting great results with less data.\n",
    "\n",
    "Over the next few notebooks, we'll see the power of transfer learning in action.\n",
    "\n",
    "#### What we're going to cover\n",
    "\n",
    "We're going to go through the following with TensorFlow:\n",
    "\n",
    "- Introduce transfer learning (a way to beat all of our old self-built models)\n",
    "- Using a smaller dataset to experiment faster (10% of training samples of 10 classes of food)\n",
    "- Build a transfer learning feature extraction model using TensorFlow Hub\n",
    "- Introduce the TensorBoard callback to track model training results\n",
    "- Compare model results using TensorBoard"
   ]
  },
  {
   "cell_type": "code",
   "execution_count": 2,
   "metadata": {},
   "outputs": [
    {
     "name": "stdout",
     "output_type": "stream",
     "text": [
      "Notebook last run (end-to-end): 2024-07-24 16:46:20.352733\n"
     ]
    }
   ],
   "source": [
    "# Add timestamp\n",
    "import datetime\n",
    "print(f\"Notebook last run (end-to-end): {datetime.datetime.now()}\")"
   ]
  },
  {
   "cell_type": "markdown",
   "metadata": {},
   "source": [
    "### Using a GPU\n",
    "\n",
    "To begin, let's check to see if we're using a GPU. Using a GPU will make sure our model trains faster than using just a CPU."
   ]
  },
  {
   "cell_type": "code",
   "execution_count": 3,
   "metadata": {},
   "outputs": [
    {
     "name": "stdout",
     "output_type": "stream",
     "text": [
      "NVIDIA-SMI has failed because it couldn't communicate with the NVIDIA driver. Make sure that the latest NVIDIA driver is installed and running.\n",
      "\n"
     ]
    }
   ],
   "source": [
    "# Are we using a GPU?\n",
    "!nvidia-smi"
   ]
  },
  {
   "cell_type": "markdown",
   "metadata": {},
   "source": [
    "If the cell above doesn't output something which looks like:"
   ]
  },
  {
   "cell_type": "markdown",
   "metadata": {},
   "source": [
    "### Transfer leanring with TensorFlow Hub: Getting great results with 10% of the data\n",
    "\n",
    "If you've been thinking, \"surely someone else has spent the time crafting the right model for the job...\" then you're in luck.\n",
    "\n",
    "For many of the problems you'll want to use deep learning for, chances are, a working model already exists.\n",
    "\n",
    "And the good news is, you can access many of them on TensorFlow Hub.\n",
    "\n",
    "[TensorFlow Hub](https://www.kaggle.com/models?tfhub-redirect=true) is a repository for existing model components. It makes it so you can import and use a fully trained model with as little as a URL.\n",
    "\n",
    "Now, I really want to demonstrate the power of transfer learning to you.\n",
    "\n",
    "To do so, what if I told you we could get much of the same results (or better) than our best model has gotten so far with only 10% of the original data, in other words, 10x less data.\n",
    "\n",
    "This seems counterintuitive right?\n",
    "\n",
    "Wouldn't you think more examples of what a picture of food looked like led to better results?\n",
    "\n",
    "And you'd be right if you thought so, generally, more data leads to better results.\n",
    "\n",
    "However, what if you didn't have more data? What if instead of 750 images per class, you had 75 images per class?\n",
    "\n",
    "Collecting 675 more images of a certain class could take a long time.\n",
    "\n",
    "So this is where another major benefit of transfer learning comes in.\n",
    "\n",
    "#### Transfer learning often allows you to get great results with less data.\n",
    "\n",
    "But don't just take my word for it. Let's download a subset of the data we've been using, namely 10% of the training data from the 10_food_classes dataset and use it to train a food image classifier on.\n",
    "\n",
    "![](./../images/tl.png)\n",
    "\n",
    "What we're working towards building. Taking a pre-trained model and adding our own custom layers on top, extracting all of the underlying patterns learned on another dataset our own images."
   ]
  },
  {
   "cell_type": "markdown",
   "metadata": {},
   "source": [
    "### Downloading and becoming one with the data"
   ]
  },
  {
   "cell_type": "code",
   "execution_count": 4,
   "metadata": {},
   "outputs": [],
   "source": [
    "# Get data (10% of labels)\n",
    "import zipfile\n",
    "\n",
    "# Download data\n",
    "## wget https://storage.googleapis.com/ztm_tf_course/food_vision/10_food_classes_10_percent.zip\n",
    "\n",
    "# Unzip the downloaded file\n",
    "zip_ref = zipfile.ZipFile(\"10_food_classes_10_percent.zip\", \"r\")\n",
    "zip_ref.extractall()\n",
    "zip_ref.close()"
   ]
  },
  {
   "cell_type": "code",
   "execution_count": 5,
   "metadata": {},
   "outputs": [
    {
     "name": "stdout",
     "output_type": "stream",
     "text": [
      "There are 2 directories and 0 images in '10_food_classes_10_percent'.\n",
      "There are 10 directories and 0 images in '10_food_classes_10_percent/test'.\n",
      "There are 0 directories and 250 images in '10_food_classes_10_percent/test/sushi'.\n",
      "There are 0 directories and 250 images in '10_food_classes_10_percent/test/grilled_salmon'.\n",
      "There are 0 directories and 250 images in '10_food_classes_10_percent/test/hamburger'.\n",
      "There are 0 directories and 250 images in '10_food_classes_10_percent/test/steak'.\n",
      "There are 0 directories and 250 images in '10_food_classes_10_percent/test/pizza'.\n",
      "There are 0 directories and 250 images in '10_food_classes_10_percent/test/chicken_curry'.\n",
      "There are 0 directories and 250 images in '10_food_classes_10_percent/test/chicken_wings'.\n",
      "There are 0 directories and 250 images in '10_food_classes_10_percent/test/ramen'.\n",
      "There are 0 directories and 250 images in '10_food_classes_10_percent/test/ice_cream'.\n",
      "There are 0 directories and 250 images in '10_food_classes_10_percent/test/fried_rice'.\n",
      "There are 10 directories and 0 images in '10_food_classes_10_percent/train'.\n",
      "There are 0 directories and 75 images in '10_food_classes_10_percent/train/sushi'.\n",
      "There are 0 directories and 75 images in '10_food_classes_10_percent/train/grilled_salmon'.\n",
      "There are 0 directories and 75 images in '10_food_classes_10_percent/train/hamburger'.\n",
      "There are 0 directories and 75 images in '10_food_classes_10_percent/train/steak'.\n",
      "There are 0 directories and 75 images in '10_food_classes_10_percent/train/pizza'.\n",
      "There are 0 directories and 75 images in '10_food_classes_10_percent/train/chicken_curry'.\n",
      "There are 0 directories and 75 images in '10_food_classes_10_percent/train/chicken_wings'.\n",
      "There are 0 directories and 75 images in '10_food_classes_10_percent/train/ramen'.\n",
      "There are 0 directories and 75 images in '10_food_classes_10_percent/train/ice_cream'.\n",
      "There are 0 directories and 75 images in '10_food_classes_10_percent/train/fried_rice'.\n"
     ]
    }
   ],
   "source": [
    "# How many images in each folder?\n",
    "import os\n",
    "\n",
    "# Walk through 10 percent data directory and list number of files\n",
    "for dirpath, dirnames, filenames in os.walk(\"10_food_classes_10_percent\"):\n",
    "  print(f\"There are {len(dirnames)} directories and {len(filenames)} images in '{dirpath}'.\")"
   ]
  },
  {
   "cell_type": "markdown",
   "metadata": {},
   "source": [
    "Notice how each of the training directories now has 75 images rather than 750 images. This is key to demonstrating how well transfer learning can perform with less labelled images.\n",
    "\n",
    "The test directories still have the same amount of images. This means we'll be training on less data but evaluating our models on the same amount of test data.\n",
    "\n",
    "### Creating data loaders (preparing the data)\n",
    "\n",
    "Now we've downloaded the data, let's use the ImageDataGenerator class along with the flow_from_directory method to load in our images."
   ]
  },
  {
   "cell_type": "code",
   "execution_count": 6,
   "metadata": {},
   "outputs": [
    {
     "name": "stderr",
     "output_type": "stream",
     "text": [
      "2024-07-24 16:46:25.052115: E external/local_xla/xla/stream_executor/cuda/cuda_fft.cc:477] Unable to register cuFFT factory: Attempting to register factory for plugin cuFFT when one has already been registered\n",
      "WARNING: All log messages before absl::InitializeLog() is called are written to STDERR\n",
      "E0000 00:00:1721850385.074440   74747 cuda_dnn.cc:8454] Unable to register cuDNN factory: Attempting to register factory for plugin cuDNN when one has already been registered\n",
      "E0000 00:00:1721850385.081036   74747 cuda_blas.cc:1418] Unable to register cuBLAS factory: Attempting to register factory for plugin cuBLAS when one has already been registered\n",
      "2024-07-24 16:46:25.097181: I tensorflow/core/platform/cpu_feature_guard.cc:210] This TensorFlow binary is optimized to use available CPU instructions in performance-critical operations.\n",
      "To enable the following instructions: AVX2 FMA, in other operations, rebuild TensorFlow with the appropriate compiler flags.\n",
      "2024-07-24 16:46:26.848356: W tensorflow/compiler/tf2tensorrt/utils/py_utils.cc:38] TF-TRT Warning: Could not find TensorRT\n"
     ]
    },
    {
     "name": "stdout",
     "output_type": "stream",
     "text": [
      "Training images:\n",
      "Found 750 images belonging to 10 classes.\n",
      "Testing images:\n",
      "Found 2500 images belonging to 10 classes.\n"
     ]
    }
   ],
   "source": [
    "# Setup data inputs\n",
    "from tensorflow.keras.preprocessing.image import ImageDataGenerator\n",
    "\n",
    "IMAGE_SHAPE = (224, 224)\n",
    "BATCH_SIZE = 32\n",
    "\n",
    "train_dir = \"10_food_classes_10_percent/train/\"\n",
    "test_dir = \"10_food_classes_10_percent/test/\"\n",
    "\n",
    "train_datagen = ImageDataGenerator(rescale=1/255.)\n",
    "test_datagen = ImageDataGenerator(rescale=1/255.)\n",
    "\n",
    "print(\"Training images:\")\n",
    "train_data_10_percent = train_datagen.flow_from_directory(train_dir,\n",
    "                                               target_size=IMAGE_SHAPE,\n",
    "                                               batch_size=BATCH_SIZE,\n",
    "                                               class_mode=\"categorical\")\n",
    "\n",
    "print(\"Testing images:\")\n",
    "test_data = train_datagen.flow_from_directory(test_dir,\n",
    "                                              target_size=IMAGE_SHAPE,\n",
    "                                              batch_size=BATCH_SIZE,\n",
    "                                              class_mode=\"categorical\")"
   ]
  },
  {
   "cell_type": "markdown",
   "metadata": {},
   "source": [
    "Excellent! Loading in the data we can see we've got 750 images in the training dataset belonging to 10 classes (75 per class) and 2500 images in the test set belonging to 10 classes (250 per class).\n",
    "\n",
    "### Setting up callbacks (things to run whilst our model trains)\n",
    "\n",
    "Before we build a model, there's an important concept we're going to get familiar with because it's going to play a key role in our future model building experiments.\n",
    "\n",
    "And that concept is **callbacks**.\n",
    "\n",
    "[Callbacks](https://www.tensorflow.org/api_docs/python/tf/keras/callbacks) are extra functionality you can add to your models to be performed during or after training. Some of the most popular callbacks include:\n",
    "\n",
    "- [Experiment tracking with TensorBoard](https://www.tensorflow.org/api_docs/python/tf/keras/callbacks/TensorBoard) - log the performance of multiple models and then view and compare these models in a visual way on [TensorBoard](https://www.tensorflow.org/tensorboard) (a dashboard for inspecting neural network parameters). Helpful to compare the results of different models on your data.\n",
    "  \n",
    "- [Model checkpointing](https://www.tensorflow.org/api_docs/python/tf/keras/callbacks/ModelCheckpoint) - save your model as it trains so you can stop training if needed and come back to continue off where you left. Helpful if training takes a long time and can't be done in one sitting.\n",
    "\n",
    "- [Early stopping](https://www.tensorflow.org/api_docs/python/tf/keras/callbacks/EarlyStopping) - leave your model training for an arbitrary amount of time and have it stop training automatically when it ceases to improve. Helpful when you've got a large dataset and don't know how long training will take.\n",
    "We'll explore each of these overtime but for this notebook, we'll see how the TensorBoard callback can be used.\n",
    "\n",
    "The TensorBoard callback can be accessed using ```tf.keras.callbacks.TensorBoard()```.\n",
    "\n",
    "Its main functionality is saving a model's training performance metrics to a specified ```log_dir```.\n",
    "\n",
    "By default, logs are recorded every epoch using the ```update_freq='epoch'``` parameter. This is a good default since tracking model performance too often can slow down model training.\n",
    "\n",
    "To track our modelling experiments using TensorBoard, let's create a function which creates a TensorBoard callback for us.\n",
    "\n",
    "       🔑 Note: We create a function for creating a TensorBoard callback because as we'll see later on, each model needs its own TensorBoard callback instance (so the function will create a new one each time it's run)."
   ]
  },
  {
   "cell_type": "code",
   "execution_count": 7,
   "metadata": {},
   "outputs": [],
   "source": [
    "# Create tensorboard callback (functionized because need to create a new one for each model)\n",
    "import datetime\n",
    "def create_tensorboard_callback(dir_name, experiment_name):\n",
    "  log_dir = dir_name + \"/\" + experiment_name + \"/\" + datetime.datetime.now().strftime(\"%Y%m%d-%H%M%S\")\n",
    "  tensorboard_callback = tf.keras.callbacks.TensorBoard(\n",
    "      log_dir=log_dir\n",
    "  )\n",
    "  print(f\"Saving TensorBoard log files to: {log_dir}\")\n",
    "  return tensorboard_callback"
   ]
  },
  {
   "cell_type": "markdown",
   "metadata": {},
   "source": [
    "Because you're likely to run multiple experiments, it's a good idea to be able to track them in some way.\n",
    "\n",
    "In our case, our function saves a model's performance logs to a directory named [dir_name]/[experiment_name]/[current_timestamp], where:\n",
    "\n",
    "- ```dir_name``` is the overall logs directory\n",
    "- ```experiment_name``` is the particular experiment\n",
    "- ```current_timestamp``` is the time the experiment started based on Python's ```datetime.datetime().now()```\n",
    "    🔑 Note: Depending on your use case, the above experimenting tracking naming method may work or you might require something more specific. The good news is, the TensorBoard callback makes it easy to track modelling logs as long as you specify where to track them. So you can get as creative as you like with how you name your experiments, just make sure you or your team can understand them."
   ]
  },
  {
   "cell_type": "markdown",
   "metadata": {},
   "source": [
    "### Creating models using TensorFlow Hub\n",
    "\n",
    "In the past we've used TensorFlow to create our own models layer by layer from scratch.\n",
    "\n",
    "Now we're going to do a similar process, except the majority of our model's layers are going to come from [TensorFlow Hub](https://tfhub.dev/).\n",
    "\n",
    "In fact, we're going to use two models from TensorFlow Hub:\n",
    "\n",
    "1. [ResNetV2](https://arxiv.org/abs/1603.05027) - a state of the art computer vision model architecture from 2016.\n",
    "2. [EfficientNet](https://arxiv.org/abs/1905.11946) - a state of the art computer vision architecture from 2019.\n",
    "\n",
    "State of the art means that at some point, both of these models have achieved the lowest error rate on ImageNet (ILSVRC-2012-CLS), the gold standard of computer vision benchmarks.\n",
    "\n",
    "You might be wondering, how do you find these models on TensorFlow Hub?\n",
    "\n",
    "Here are the steps I took:\n",
    "\n",
    " 1. Go to [tfhub.dev](https://tfhub.dev/).\n",
    " 2. Choose your problem domain, e.g. \"Image\" (we're using food images).\n",
    " 3. Select your TF version, which in our case is TF2.\n",
    " 4. Remove all \"Problem domanin\" filters except for the problem you're working on.\n",
    "\n",
    "- Note: \"Image feature vector\" can be used alongside almost any problem, we'll get to this soon.\n",
    "\n",
    " 5. The models listed are all models which could potentially be used for your problem.\n",
    "    \n",
    "    🤔 Question: I see many options for image classification models, how do I know which is best?\n",
    "\n",
    "You can see a list of state of the art models on [paperswithcode.com](https://www.paperswithcode.com/), a resource for collecting the latest in deep learning paper results which have code implementations for the findings they report.\n",
    "\n",
    "Since we're working with images, our target are the [models which perform best on ImageNet](https://paperswithcode.com/sota/image-classification-on-imagenet).\n",
    "\n",
    "You can see a list of state of the art models on paperswithcode.com, a resource for collecting the latest in deep learning paper results which have code implementations for the findings they report.\n",
    "\n",
    "Since we're working with images, our target are the models which perform best on ImageNet.\n",
    "\n",
    "You'll probably find not all of the model architectures listed on paperswithcode appear on TensorFlow Hub. And this is okay, we can still use what's available.\n",
    "\n",
    "To find our models, let's narrow down our search using the Architecture tab.\n",
    "\n",
    " 6. Select the Architecture tab on TensorFlow Hub and you'll see a dropdown menu of architecture names appear.\n",
    "\n",
    " - The rule of thumb here is generally, names with larger numbers means better performing models. For example, EfficientNetB4 performs better than EfficientNetB0.\n",
    "   - However, the tradeoff with larger numbers can mean they take longer to compute.\n",
    "\n",
    " 7. Select EfficientNetB0 and you should see [something like the following](https://tfhub.dev/s?module-type=image-classification,image-feature-vector&network-architecture=efficientnet-b0&tf-version=tf2):\n",
    "\n",
    "![](../images/tfhub.png)"
   ]
  },
  {
   "cell_type": "markdown",
   "metadata": {},
   "source": [
    " 8. Clicking the one titled \"[efficientnet/b0/feature-vector](https://tfhub.dev/tensorflow/efficientnet/b0/feature-vector/1)\" brings us\n",
    "to a page with a button that says \"Copy URL\". That URL is what we can use to harness the power of EfficientNetB0.\n",
    "\n",
    "- Copying the URL should give you something like this: https://tfhub.dev/tensorflow/efficientnet/b0/feature-vector/1\n",
    "    \n",
    "    🤔 Question: I thought we were doing image classification, why do we choose feature vector and not classification?\n",
    "\n",
    "Great observation. This is where the differnet types of transfer learning come into play, as is, feature extraction and fine-tuning.\n",
    "\n",
    "1. **\"As is\" transfer learning** is when you take a pretrained model as it is and apply it to your task without any changes.\n",
    "\n",
    "- For example, many computer vision models are pretrained on the ImageNet dataset which contains 1000 different classes of images. \n",
    "This means passing a single image to this model will produce 1000 different prediction probability values (1 for each class).\n",
    "\n",
    " - This is helpful if you have 1000 classes of image you'd like to classify and they're all the same as the ImageNet classes, however,\n",
    "it's not helpful if you want to classify only a small subset of classes (such as 10 different kinds of food). Model's with ```\"/classification\"``` \n",
    "in their name on TensorFlow Hub provide this kind of functionality.\n",
    "\n",
    "2. Feature extraction transfer learning is when you take the underlying patterns (also called weights) a pretrained model has learned and \n",
    "adjust its outputs to be more suited to your problem.\n",
    "\n",
    "- For example, say the pretrained model you were using had 236 different layers (EfficientNetB0 has 236 layers), but the top layer outputs \n",
    "1000 classes because it was pretrained on ImageNet. To adjust this to your own problem, you might remove the original activation layer and \n",
    "replace it with your own but with the right number of output classes. The important part here is that only the top few layers become trainable, the rest remain frozen.\n",
    "\n",
    "\n",
    "    - This way all the underlying patterns remain in the rest of the layers and you can utilise them for your own problem. This kind of transfer learning \n",
    "    is very helpful when your data is similar to the data a model has been pretrained on.\n",
    "\n",
    "3. Fine-tuning transfer learning is when you take the underlying patterns (also called weights) of a pretrained model and adjust (fine-tune) them to your own problem.\n",
    "\n",
    " - This usually means training some, many or all of the layers in the pretrained model. This is useful when you've got a large dataset (e.g. 100+ images \n",
    "   per class) where your data is slightly different to the data the original model was trained on.\n",
    "\n",
    "A common workflow is to \"freeze\" all of the learned patterns in the bottom layers of a pretrained model so they're untrainable. And then train the \n",
    "top 2-3 layers of so the pretrained model can adjust its outputs to your custom data (feature extraction).\n",
    "\n",
    "After you've trained the top 2-3 layers, you can then gradually \"unfreeze\" more and more layers and run the training process on your own data to \n",
    "further fine-tune the pretrained model.\n",
    "\n",
    "    🤔 Question: Why train only the top 2-3 layers in feature extraction?\n",
    "\n",
    "The lower a layer is in a computer vision model as in, the closer it is to the input layer, the larger the features it learn. For example, a bottom layer in a \n",
    "computer vision model to identify images of cats or dogs might learn the outline of legs, where as, layers closer to the output might learn the shape of teeth. \n",
    "Often, you'll want the larger features (learned patterns are also called features) to remain, since these are similar for both animals, where as, the \n",
    "differences remain in the more fine-grained features.\n",
    "\n",
    "![](../images/kind_transfer_learning.png)\n",
    "\n",
    "The different kinds of transfer learning. An original model, a feature extraction model (only top 2-3 layers change) and a fine-tuning model (many or all of original model get changed).\n",
    "\n",
    "Okay, enough talk, let's see this in action. Once we do, we'll explain what's happening.\n",
    "\n",
    "First we'll import TensorFlow and TensorFlow Hub."
   ]
  },
  {
   "cell_type": "code",
   "execution_count": 8,
   "metadata": {},
   "outputs": [],
   "source": [
    "import tensorflow as tf\n",
    "import tensorflow_hub as hub\n",
    "from tensorflow.keras import layers"
   ]
  },
  {
   "cell_type": "markdown",
   "metadata": {},
   "source": [
    "Now we'll get the feature vector URLs of two common computer vision architectures, [EfficientNetB0 (2019)](https://tfhub.dev/tensorflow/efficientnet/b0/feature-vector/1) and [ResNetV250 (2016)](https://tfhub.dev/google/imagenet/resnet_v2_50/feature_vector/4) from TensorFlow Hub using the steps above.\n",
    "\n",
    "We're getting both of these because we're going to compare them to see which performs better on our data.\n",
    "\n",
    "    🔑 Note: Comparing different model architecture performance on the same data is a very common practice. The simple reason is because you want to know which model performs best for your problem.\n",
    "\n",
    "Update: As of 14 August 2021, [EfficientNet V2 pretrained models are available on TensorFlow Hub](https://tfhub.dev/google/collections/efficientnet_v2/1). The original code in this notebook uses EfficientNet V1, it has been left unchanged. In [my experiments with this dataset](https://github.com/mrdbourke/tensorflow-deep-learning/discussions/166), V1 outperforms V2. Best to experiment with your own data and see what suits you."
   ]
  },
  {
   "cell_type": "code",
   "execution_count": 9,
   "metadata": {},
   "outputs": [],
   "source": [
    "# Resnet 50 V2 feature vector\n",
    "resnet_url = \"https://tfhub.dev/google/imagenet/resnet_v2_50/feature_vector/4\"\n",
    "\n",
    "# Original: EfficientNetB0 feature vector (version 1)\n",
    "efficientnet_url = \"https://tfhub.dev/tensorflow/efficientnet/b0/feature-vector/1\"\n",
    "\n",
    "# # New: EfficientNetB0 feature vector (version 2)\n",
    "# efficientnet_url = \"https://tfhub.dev/google/imagenet/efficientnet_v2_imagenet1k_b0/feature_vector/2\""
   ]
  },
  {
   "cell_type": "markdown",
   "metadata": {},
   "source": [
    "These URLs link to a saved pretrained model on TensorFlow Hub.\n",
    "\n",
    "When we use them in our model, the model will automatically be downloaded for us to use.\n",
    "\n",
    "To do this, we can use the ```KerasLayer()``` model inside the TensorFlow hub library.\n",
    "\n",
    "Since we're going to be comparing two models, to save ourselves code, we'll create a function ```create_model()```. This function will take a model's TensorFlow Hub URL, instatiate a Keras Sequential model with the appropriate number of output layers and return the model."
   ]
  },
  {
   "cell_type": "code",
   "execution_count": 10,
   "metadata": {},
   "outputs": [],
   "source": [
    "def create_model(model_url, num_classes=10):\n",
    "  \"\"\"Takes a TensorFlow Hub URL and creates a Keras Sequential model with it.\n",
    "  \n",
    "  Args:\n",
    "    model_url (str): A TensorFlow Hub feature extraction URL.\n",
    "    num_classes (int): Number of output neurons in output layer,\n",
    "      should be equal to number of target classes, default 10.\n",
    "\n",
    "  Returns:\n",
    "    An uncompiled Keras Sequential model with model_url as feature\n",
    "    extractor layer and Dense output layer with num_classes outputs.\n",
    "  \"\"\"\n",
    "  # Download the pretrained model and save it as a Keras layer\n",
    "  feature_extractor_layer = hub.KerasLayer(model_url,\n",
    "                                           trainable=False, # freeze the underlying patterns\n",
    "                                           name='feature_extraction_layer',\n",
    "                                           input_shape=IMAGE_SHAPE+(3,)) # define the input image shape\n",
    "  \n",
    "  # Create our own model\n",
    "  model = tf.keras.Sequential([\n",
    "    feature_extractor_layer, # use the feature extraction layer as the base\n",
    "    layers.Dense(num_classes, activation='softmax', name='output_layer') # create our own output layer      \n",
    "  ])\n",
    "\n",
    "  return model"
   ]
  },
  {
   "cell_type": "markdown",
   "metadata": {},
   "source": [
    "Great! Now we've got a function for creating a model, we'll use it to first create a model using the ResNetV250 architecture as our feature extraction layer.\n",
    "\n",
    "Once the model is instantiated, we'll compile it using categorical_crossentropy as our loss function, the Adam optimizer and accuracy as our metric."
   ]
  },
  {
   "cell_type": "code",
   "execution_count": 11,
   "metadata": {},
   "outputs": [
    {
     "name": "stderr",
     "output_type": "stream",
     "text": [
      "2024-07-24 16:47:50.284853: E external/local_xla/xla/stream_executor/cuda/cuda_driver.cc:256] failed call to cuInit: CUDA_ERROR_NO_DEVICE: no CUDA-capable device is detected\n"
     ]
    },
    {
     "ename": "ValueError",
     "evalue": "Only instances of `keras.Layer` can be added to a Sequential model. Received: <tensorflow_hub.keras_layer.KerasLayer object at 0x7f3850a789a0> (of type <class 'tensorflow_hub.keras_layer.KerasLayer'>)",
     "output_type": "error",
     "traceback": [
      "\u001b[0;31m---------------------------------------------------------------------------\u001b[0m",
      "\u001b[0;31mValueError\u001b[0m                                Traceback (most recent call last)",
      "Cell \u001b[0;32mIn[11], line 2\u001b[0m\n\u001b[1;32m      1\u001b[0m \u001b[38;5;66;03m# Create model\u001b[39;00m\n\u001b[0;32m----> 2\u001b[0m resnet_model \u001b[38;5;241m=\u001b[39m \u001b[43mcreate_model\u001b[49m\u001b[43m(\u001b[49m\u001b[43mresnet_url\u001b[49m\u001b[43m,\u001b[49m\u001b[43m \u001b[49m\u001b[43mnum_classes\u001b[49m\u001b[38;5;241;43m=\u001b[39;49m\u001b[43mtrain_data_10_percent\u001b[49m\u001b[38;5;241;43m.\u001b[39;49m\u001b[43mnum_classes\u001b[49m\u001b[43m)\u001b[49m\n\u001b[1;32m      4\u001b[0m \u001b[38;5;66;03m# Compile\u001b[39;00m\n\u001b[1;32m      5\u001b[0m resnet_model\u001b[38;5;241m.\u001b[39mcompile(loss\u001b[38;5;241m=\u001b[39m\u001b[38;5;124m'\u001b[39m\u001b[38;5;124mcategorical_crossentropy\u001b[39m\u001b[38;5;124m'\u001b[39m,\n\u001b[1;32m      6\u001b[0m                      optimizer\u001b[38;5;241m=\u001b[39mtf\u001b[38;5;241m.\u001b[39mkeras\u001b[38;5;241m.\u001b[39moptimizers\u001b[38;5;241m.\u001b[39mAdam(),\n\u001b[1;32m      7\u001b[0m                      metrics\u001b[38;5;241m=\u001b[39m[\u001b[38;5;124m'\u001b[39m\u001b[38;5;124maccuracy\u001b[39m\u001b[38;5;124m'\u001b[39m])\n",
      "Cell \u001b[0;32mIn[10], line 20\u001b[0m, in \u001b[0;36mcreate_model\u001b[0;34m(model_url, num_classes)\u001b[0m\n\u001b[1;32m     14\u001b[0m feature_extractor_layer \u001b[38;5;241m=\u001b[39m hub\u001b[38;5;241m.\u001b[39mKerasLayer(model_url,\n\u001b[1;32m     15\u001b[0m                                          trainable\u001b[38;5;241m=\u001b[39m\u001b[38;5;28;01mFalse\u001b[39;00m, \u001b[38;5;66;03m# freeze the underlying patterns\u001b[39;00m\n\u001b[1;32m     16\u001b[0m                                          name\u001b[38;5;241m=\u001b[39m\u001b[38;5;124m'\u001b[39m\u001b[38;5;124mfeature_extraction_layer\u001b[39m\u001b[38;5;124m'\u001b[39m,\n\u001b[1;32m     17\u001b[0m                                          input_shape\u001b[38;5;241m=\u001b[39mIMAGE_SHAPE\u001b[38;5;241m+\u001b[39m(\u001b[38;5;241m3\u001b[39m,)) \u001b[38;5;66;03m# define the input image shape\u001b[39;00m\n\u001b[1;32m     19\u001b[0m \u001b[38;5;66;03m# Create our own model\u001b[39;00m\n\u001b[0;32m---> 20\u001b[0m model \u001b[38;5;241m=\u001b[39m \u001b[43mtf\u001b[49m\u001b[38;5;241;43m.\u001b[39;49m\u001b[43mkeras\u001b[49m\u001b[38;5;241;43m.\u001b[39;49m\u001b[43mSequential\u001b[49m\u001b[43m(\u001b[49m\u001b[43m[\u001b[49m\n\u001b[1;32m     21\u001b[0m \u001b[43m  \u001b[49m\u001b[43mfeature_extractor_layer\u001b[49m\u001b[43m,\u001b[49m\u001b[43m \u001b[49m\u001b[38;5;66;43;03m# use the feature extraction layer as the base\u001b[39;49;00m\n\u001b[1;32m     22\u001b[0m \u001b[43m  \u001b[49m\u001b[43mlayers\u001b[49m\u001b[38;5;241;43m.\u001b[39;49m\u001b[43mDense\u001b[49m\u001b[43m(\u001b[49m\u001b[43mnum_classes\u001b[49m\u001b[43m,\u001b[49m\u001b[43m \u001b[49m\u001b[43mactivation\u001b[49m\u001b[38;5;241;43m=\u001b[39;49m\u001b[38;5;124;43m'\u001b[39;49m\u001b[38;5;124;43msoftmax\u001b[39;49m\u001b[38;5;124;43m'\u001b[39;49m\u001b[43m,\u001b[49m\u001b[43m \u001b[49m\u001b[43mname\u001b[49m\u001b[38;5;241;43m=\u001b[39;49m\u001b[38;5;124;43m'\u001b[39;49m\u001b[38;5;124;43moutput_layer\u001b[39;49m\u001b[38;5;124;43m'\u001b[39;49m\u001b[43m)\u001b[49m\u001b[43m \u001b[49m\u001b[38;5;66;43;03m# create our own output layer      \u001b[39;49;00m\n\u001b[1;32m     23\u001b[0m \u001b[43m\u001b[49m\u001b[43m]\u001b[49m\u001b[43m)\u001b[49m\n\u001b[1;32m     25\u001b[0m \u001b[38;5;28;01mreturn\u001b[39;00m model\n",
      "File \u001b[0;32m~/.local/lib/python3.10/site-packages/keras/src/models/sequential.py:69\u001b[0m, in \u001b[0;36mSequential.__init__\u001b[0;34m(self, layers, trainable, name)\u001b[0m\n\u001b[1;32m     67\u001b[0m \u001b[38;5;28;01mif\u001b[39;00m layers:\n\u001b[1;32m     68\u001b[0m     \u001b[38;5;28;01mfor\u001b[39;00m layer \u001b[38;5;129;01min\u001b[39;00m layers:\n\u001b[0;32m---> 69\u001b[0m         \u001b[38;5;28;43mself\u001b[39;49m\u001b[38;5;241;43m.\u001b[39;49m\u001b[43madd\u001b[49m\u001b[43m(\u001b[49m\u001b[43mlayer\u001b[49m\u001b[43m,\u001b[49m\u001b[43m \u001b[49m\u001b[43mrebuild\u001b[49m\u001b[38;5;241;43m=\u001b[39;49m\u001b[38;5;28;43;01mFalse\u001b[39;49;00m\u001b[43m)\u001b[49m\n\u001b[1;32m     70\u001b[0m     \u001b[38;5;28mself\u001b[39m\u001b[38;5;241m.\u001b[39m_maybe_rebuild()\n",
      "File \u001b[0;32m~/.local/lib/python3.10/site-packages/keras/src/models/sequential.py:91\u001b[0m, in \u001b[0;36mSequential.add\u001b[0;34m(self, layer, rebuild)\u001b[0m\n\u001b[1;32m     89\u001b[0m         layer \u001b[38;5;241m=\u001b[39m origin_layer\n\u001b[1;32m     90\u001b[0m \u001b[38;5;28;01mif\u001b[39;00m \u001b[38;5;129;01mnot\u001b[39;00m \u001b[38;5;28misinstance\u001b[39m(layer, Layer):\n\u001b[0;32m---> 91\u001b[0m     \u001b[38;5;28;01mraise\u001b[39;00m \u001b[38;5;167;01mValueError\u001b[39;00m(\n\u001b[1;32m     92\u001b[0m         \u001b[38;5;124m\"\u001b[39m\u001b[38;5;124mOnly instances of `keras.Layer` can be \u001b[39m\u001b[38;5;124m\"\u001b[39m\n\u001b[1;32m     93\u001b[0m         \u001b[38;5;124mf\u001b[39m\u001b[38;5;124m\"\u001b[39m\u001b[38;5;124madded to a Sequential model. Received: \u001b[39m\u001b[38;5;132;01m{\u001b[39;00mlayer\u001b[38;5;132;01m}\u001b[39;00m\u001b[38;5;124m \u001b[39m\u001b[38;5;124m\"\u001b[39m\n\u001b[1;32m     94\u001b[0m         \u001b[38;5;124mf\u001b[39m\u001b[38;5;124m\"\u001b[39m\u001b[38;5;124m(of type \u001b[39m\u001b[38;5;132;01m{\u001b[39;00m\u001b[38;5;28mtype\u001b[39m(layer)\u001b[38;5;132;01m}\u001b[39;00m\u001b[38;5;124m)\u001b[39m\u001b[38;5;124m\"\u001b[39m\n\u001b[1;32m     95\u001b[0m     )\n\u001b[1;32m     96\u001b[0m \u001b[38;5;28;01mif\u001b[39;00m \u001b[38;5;129;01mnot\u001b[39;00m \u001b[38;5;28mself\u001b[39m\u001b[38;5;241m.\u001b[39m_is_layer_name_unique(layer):\n\u001b[1;32m     97\u001b[0m     \u001b[38;5;28;01mraise\u001b[39;00m \u001b[38;5;167;01mValueError\u001b[39;00m(\n\u001b[1;32m     98\u001b[0m         \u001b[38;5;124m\"\u001b[39m\u001b[38;5;124mAll layers added to a Sequential model \u001b[39m\u001b[38;5;124m\"\u001b[39m\n\u001b[1;32m     99\u001b[0m         \u001b[38;5;124mf\u001b[39m\u001b[38;5;124m\"\u001b[39m\u001b[38;5;124mshould have unique names. Name \u001b[39m\u001b[38;5;124m'\u001b[39m\u001b[38;5;132;01m{\u001b[39;00mlayer\u001b[38;5;241m.\u001b[39mname\u001b[38;5;132;01m}\u001b[39;00m\u001b[38;5;124m'\u001b[39m\u001b[38;5;124m is already \u001b[39m\u001b[38;5;124m\"\u001b[39m\n\u001b[1;32m    100\u001b[0m         \u001b[38;5;124m\"\u001b[39m\u001b[38;5;124mthe name of a layer in this model. Update the `name` argument \u001b[39m\u001b[38;5;124m\"\u001b[39m\n\u001b[1;32m    101\u001b[0m         \u001b[38;5;124m\"\u001b[39m\u001b[38;5;124mto pass a unique name.\u001b[39m\u001b[38;5;124m\"\u001b[39m\n\u001b[1;32m    102\u001b[0m     )\n",
      "\u001b[0;31mValueError\u001b[0m: Only instances of `keras.Layer` can be added to a Sequential model. Received: <tensorflow_hub.keras_layer.KerasLayer object at 0x7f3850a789a0> (of type <class 'tensorflow_hub.keras_layer.KerasLayer'>)"
     ]
    }
   ],
   "source": [
    "# Create model\n",
    "resnet_model = create_model(resnet_url, num_classes=train_data_10_percent.num_classes)\n",
    "\n",
    "# Compile\n",
    "resnet_model.compile(loss='categorical_crossentropy',\n",
    "                     optimizer=tf.keras.optimizers.Adam(),\n",
    "                     metrics=['accuracy'])"
   ]
  },
  {
   "cell_type": "markdown",
   "metadata": {},
   "source": [
    "![](../images/resnet.png)"
   ]
  },
  {
   "cell_type": "markdown",
   "metadata": {},
   "source": [
    "What our current model looks like. A ResNet50V2 backbone with a custom dense layer on top (10 classes instead of 1000 ImageNet classes). \n",
    "Note: The Image shows ResNet34 instead of ResNet50. Image source: [https://arxiv.org/abs/1512.03385](https://arxiv.org/abs/1512.03385).\n",
    "\n",
    "Beautiful. Time to fit the model.\n",
    "\n",
    "We've got the training data ready in ```train_data_10_percent``` as well as the test data saved as ```test_data```.\n",
    "\n",
    "But before we call the fit function, there's one more thing we're going to add, a callback. More specifically, a TensorBoard callback so we can track the performance of our model on TensorBoard.\n",
    "\n",
    "We can add a callback to our model by using the ```callbacks``` parameter in the fit function.\n",
    "\n",
    "In our case, we'll pass the ```callbacks``` parameter the ```create_tensorboard_callback()``` we created earlier with some specific inputs so we know what experiments we're running.\n",
    "\n",
    "Let's keep this experiment short and train for 5 epochs."
   ]
  },
  {
   "cell_type": "code",
   "execution_count": null,
   "metadata": {},
   "outputs": [
    {
     "name": "stdout",
     "output_type": "stream",
     "text": [
      "Saving TensorBoard log files to: tensorflow_hub/resnet50V2/20240305-192442\n"
     ]
    },
    {
     "name": "stderr",
     "output_type": "stream",
     "text": [
      "2024-03-05 19:24:43.109488: I external/local_tsl/tsl/platform/default/subprocess.cc:304] Start cannot spawn child process: No such file or directory\n"
     ]
    },
    {
     "name": "stdout",
     "output_type": "stream",
     "text": [
      "Epoch 1/5\n"
     ]
    },
    {
     "name": "stderr",
     "output_type": "stream",
     "text": [
      "2024-03-05 19:24:47.399166: I external/local_xla/xla/stream_executor/cuda/cuda_dnn.cc:454] Loaded cuDNN version 8907\n",
      "2024-03-05 19:24:47.592727: I external/local_tsl/tsl/platform/default/subprocess.cc:304] Start cannot spawn child process: No such file or directory\n",
      "2024-03-05 19:24:52.647678: W external/local_tsl/tsl/framework/bfc_allocator.cc:296] Allocator (GPU_0_bfc) ran out of memory trying to allocate 4.59GiB with freed_by_count=0. The caller indicates that this is not a failure, but this may mean that there could be performance gains if more memory were available.\n",
      "2024-03-05 19:24:52.816950: W external/local_tsl/tsl/framework/bfc_allocator.cc:296] Allocator (GPU_0_bfc) ran out of memory trying to allocate 4.59GiB with freed_by_count=0. The caller indicates that this is not a failure, but this may mean that there could be performance gains if more memory were available.\n",
      "2024-03-05 19:24:53.742861: I external/local_xla/xla/service/service.cc:168] XLA service 0x7fc2d0c69d70 initialized for platform CUDA (this does not guarantee that XLA will be used). Devices:\n",
      "2024-03-05 19:24:53.742930: I external/local_xla/xla/service/service.cc:176]   StreamExecutor device (0): NVIDIA GeForce GTX 750 Ti, Compute Capability 5.0\n",
      "2024-03-05 19:24:53.765363: I tensorflow/compiler/mlir/tensorflow/utils/dump_mlir_util.cc:269] disabling MLIR crash reproducer, set env var `MLIR_CRASH_REPRODUCER_DIRECTORY` to enable.\n",
      "WARNING: All log messages before absl::InitializeLog() is called are written to STDERR\n",
      "I0000 00:00:1709677493.889028    8761 device_compiler.h:186] Compiled cluster using XLA!  This line is logged at most once for the lifetime of the process.\n"
     ]
    },
    {
     "name": "stdout",
     "output_type": "stream",
     "text": [
      "24/24 [==============================] - 55s 2s/step - loss: 2.0010 - accuracy: 0.3160 - val_loss: 1.2643 - val_accuracy: 0.5864\n",
      "Epoch 2/5\n",
      "24/24 [==============================] - 38s 2s/step - loss: 0.9430 - accuracy: 0.7280 - val_loss: 0.8759 - val_accuracy: 0.7216\n",
      "Epoch 3/5\n",
      "24/24 [==============================] - 38s 2s/step - loss: 0.6181 - accuracy: 0.8360 - val_loss: 0.7531 - val_accuracy: 0.7576\n",
      "Epoch 4/5\n",
      "24/24 [==============================] - 38s 2s/step - loss: 0.4803 - accuracy: 0.8813 - val_loss: 0.7056 - val_accuracy: 0.7720\n",
      "Epoch 5/5\n",
      "24/24 [==============================] - 38s 2s/step - loss: 0.3860 - accuracy: 0.9067 - val_loss: 0.6685 - val_accuracy: 0.7820\n"
     ]
    }
   ],
   "source": [
    "# Fit the model\n",
    "resnet_history = resnet_model.fit(train_data_10_percent,\n",
    "                                  epochs=5,\n",
    "                                  steps_per_epoch=len(train_data_10_percent),\n",
    "                                  validation_data=test_data,\n",
    "                                  validation_steps=len(test_data),\n",
    "                                  # Add TensorBoard callback to model (callbacks parameter takes a list)\n",
    "                                  callbacks=[create_tensorboard_callback(dir_name=\"tensorflow_hub\", # save experiment logs here\n",
    "                                                                         experiment_name=\"resnet50V2\")]) # name of log files\n",
    "     "
   ]
  },
  {
   "cell_type": "markdown",
   "metadata": {},
   "source": [
    "Wow!\n",
    "\n",
    "It seems that after only 5 epochs, the ResNetV250 feature extraction model was able to blow any of the architectures we made out of the water, achieving around 90% accuracy on the training set and nearly 80% accuracy on the test set...***with only 10 percent of the training images!***\n",
    "\n",
    "That goes to show the power of transfer learning. And it's one of the main reasons whenever you're trying to model your own datasets, you should look into what pretrained models already exist.\n",
    "\n",
    "Let's check out our model's training curves using our ```plot_loss_curves``` function."
   ]
  },
  {
   "cell_type": "code",
   "execution_count": null,
   "metadata": {},
   "outputs": [],
   "source": [
    "# If you wanted to, you could really turn this into a helper function to load in with a helper.py script...\n",
    "import matplotlib.pyplot as plt\n",
    "\n",
    "# Plot the validation and training data separately\n",
    "def plot_loss_curves(history):\n",
    "  \"\"\"\n",
    "  Returns separate loss curves for training and validation metrics.\n",
    "  \"\"\" \n",
    "  loss = history.history['loss']\n",
    "  val_loss = history.history['val_loss']\n",
    "\n",
    "  accuracy = history.history['accuracy']\n",
    "  val_accuracy = history.history['val_accuracy']\n",
    "\n",
    "  epochs = range(len(history.history['loss']))\n",
    "\n",
    "  # Plot loss\n",
    "  plt.plot(epochs, loss, label='training_loss')\n",
    "  plt.plot(epochs, val_loss, label='val_loss')\n",
    "  plt.title('Loss')\n",
    "  plt.xlabel('Epochs')\n",
    "  plt.legend()\n",
    "\n",
    "  # Plot accuracy\n",
    "  plt.figure()\n",
    "  plt.plot(epochs, accuracy, label='training_accuracy')\n",
    "  plt.plot(epochs, val_accuracy, label='val_accuracy')\n",
    "  plt.title('Accuracy')\n",
    "  plt.xlabel('Epochs')\n",
    "  plt.legend();"
   ]
  },
  {
   "cell_type": "code",
   "execution_count": null,
   "metadata": {},
   "outputs": [
    {
     "data": {
      "image/png": "[encoded data removed]",
      "text/plain": [
       "<Figure size 640x480 with 1 Axes>"
      ]
     },
     "metadata": {},
     "output_type": "display_data"
    },
    {
     "data": {
      "image/png": "[encoded data removed]",
      "text/plain": [
       "<Figure size 640x480 with 1 Axes>"
      ]
     },
     "metadata": {},
     "output_type": "display_data"
    }
   ],
   "source": [
    "plot_loss_curves(resnet_history)"
   ]
  },
  {
   "cell_type": "code",
   "execution_count": null,
   "metadata": {},
   "outputs": [
    {
     "name": "stdout",
     "output_type": "stream",
     "text": [
      "Model: \"sequential\"\n",
      "_________________________________________________________________\n",
      " Layer (type)                Output Shape              Param #   \n",
      "=================================================================\n",
      " feature_extraction_layer (  (None, 2048)              23564800  \n",
      " KerasLayer)                                                     \n",
      "                                                                 \n",
      " output_layer (Dense)        (None, 10)                20490     \n",
      "                                                                 \n",
      "=================================================================\n",
      "Total params: 23585290 (89.97 MB)\n",
      "Trainable params: 20490 (80.04 KB)\n",
      "Non-trainable params: 23564800 (89.89 MB)\n",
      "_________________________________________________________________\n"
     ]
    }
   ],
   "source": [
    "# Resnet summary \n",
    "resnet_model.summary()"
   ]
  },
  {
   "cell_type": "markdown",
   "metadata": {},
   "source": [
    "You can see the power of TensorFlow Hub here. The feature extraction layer has 23,564,800 parameters which are prelearned patterns the model has already learned on the ImageNet dataset. Since we set ```trainable=False```, these patterns remain frozen (non-trainable) during training.\n",
    "\n",
    "This means during training the model updates the 20,490 parameters in the output layer to suit our dataset.\n",
    "\n",
    "Okay, we've trained a ResNetV250 model, time to do the same with EfficientNetB0 model.\n",
    "\n",
    "The setup will be the exact same as before, except for the ```model_url``` parameter in the ```create_model()``` function and the ```experiment_name``` parameter in the ```create_tensorboard_callback()``` function."
   ]
  },
  {
   "cell_type": "code",
   "execution_count": null,
   "metadata": {},
   "outputs": [
    {
     "name": "stdout",
     "output_type": "stream",
     "text": [
      "Saving TensorBoard log files to: tensorflow_hub/efficientnetB0/20240305-193146\n",
      "Epoch 1/5\n",
      "24/24 [==============================] - 42s 1s/step - loss: 1.7992 - accuracy: 0.4413 - val_loss: 1.2827 - val_accuracy: 0.7312\n",
      "Epoch 2/5\n",
      "24/24 [==============================] - 23s 1s/step - loss: 1.0527 - accuracy: 0.7800 - val_loss: 0.8628 - val_accuracy: 0.8128\n",
      "Epoch 3/5\n",
      "24/24 [==============================] - 23s 1s/step - loss: 0.7533 - accuracy: 0.8320 - val_loss: 0.6924 - val_accuracy: 0.8384\n",
      "Epoch 4/5\n",
      "24/24 [==============================] - 23s 1s/step - loss: 0.6041 - accuracy: 0.8640 - val_loss: 0.6064 - val_accuracy: 0.8532\n",
      "Epoch 5/5\n",
      "24/24 [==============================] - 23s 1s/step - loss: 0.5124 - accuracy: 0.8813 - val_loss: 0.5541 - val_accuracy: 0.8640\n"
     ]
    }
   ],
   "source": [
    "# Create model\n",
    "efficientnet_model = create_model(model_url=efficientnet_url, # use EfficientNetB0 TensorFlow Hub URL\n",
    "                                  num_classes=train_data_10_percent.num_classes)\n",
    "\n",
    "# Compile EfficientNet model\n",
    "efficientnet_model.compile(loss='categorical_crossentropy',\n",
    "                           optimizer=tf.keras.optimizers.Adam(),\n",
    "                           metrics=['accuracy'])\n",
    "\n",
    "# Fit EfficientNet model \n",
    "efficientnet_history = efficientnet_model.fit(train_data_10_percent, # only use 10% of training data\n",
    "                                              epochs=5, # train for 5 epochs\n",
    "                                              steps_per_epoch=len(train_data_10_percent),\n",
    "                                              validation_data=test_data,\n",
    "                                              validation_steps=len(test_data),\n",
    "                                              callbacks=[create_tensorboard_callback(dir_name=\"tensorflow_hub\", \n",
    "                                                                                     # Track logs under different experiment name\n",
    "                                                                                     experiment_name=\"efficientnetB0\")])"
   ]
  },
  {
   "cell_type": "markdown",
   "metadata": {},
   "source": [
    "Holy smokes! The EfficientNetB0 model does even better than the ResNetV250 model! Achieving over 85% accuracy on the test set...again **with only 10% of the training data**.\n",
    "\n",
    "How cool is that?\n",
    "\n",
    "With a couple of lines of code we're able to leverage state of the art models and adjust them to our own use case.\n",
    "\n",
    "Let's check out the loss curves."
   ]
  },
  {
   "cell_type": "code",
   "execution_count": null,
   "metadata": {},
   "outputs": [
    {
     "data": {
      "image/png": "[encoded data removed]",
      "text/plain": [
       "<Figure size 640x480 with 1 Axes>"
      ]
     },
     "metadata": {},
     "output_type": "display_data"
    },
    {
     "data": {
      "image/png": "[encoded data removed]",
      "text/plain": [
       "<Figure size 640x480 with 1 Axes>"
      ]
     },
     "metadata": {},
     "output_type": "display_data"
    }
   ],
   "source": [
    "plot_loss_curves(efficientnet_history)"
   ]
  },
  {
   "cell_type": "markdown",
   "metadata": {},
   "source": [
    "From the look of the EfficientNetB0 model's loss curves, it looks like if we kept training our model for longer, it might improve even further. Perhaps that's something you might want to try?\n",
    "\n",
    "Let's check out the model summary."
   ]
  },
  {
   "cell_type": "code",
   "execution_count": null,
   "metadata": {},
   "outputs": [
    {
     "name": "stdout",
     "output_type": "stream",
     "text": [
      "Model: \"sequential_1\"\n",
      "_________________________________________________________________\n",
      " Layer (type)                Output Shape              Param #   \n",
      "=================================================================\n",
      " feature_extraction_layer (  (None, 1280)              4049564   \n",
      " KerasLayer)                                                     \n",
      "                                                                 \n",
      " output_layer (Dense)        (None, 10)                12810     \n",
      "                                                                 \n",
      "=================================================================\n",
      "Total params: 4062374 (15.50 MB)\n",
      "Trainable params: 12810 (50.04 KB)\n",
      "Non-trainable params: 4049564 (15.45 MB)\n",
      "_________________________________________________________________\n"
     ]
    }
   ],
   "source": [
    "efficientnet_model.summary()"
   ]
  },
  {
   "cell_type": "markdown",
   "metadata": {},
   "source": [
    "It seems despite having over four times less parameters (4,049,564 vs. 23,564,800) than the ResNet50V2 extraction layer, the EfficientNetB0 feature extraction layer yields better performance. Now it's clear where the \"efficient\" name came from."
   ]
  },
  {
   "cell_type": "markdown",
   "metadata": {},
   "source": [
    "### Comparing models using TensorBoard"
   ]
  },
  {
   "cell_type": "markdown",
   "metadata": {},
   "source": [
    "Alright, even though we've already compared the performance of our two models by looking at the accuracy scores. But what if you had more than two models?\n",
    "\n",
    "That's where an experiment tracking tool like [TensorBoard](https://www.tensorflow.org/tensorboard) (preinstalled in Google Colab) comes in.\n",
    "\n",
    "The good thing is, since we set up a TensorBoard callback, all of our model's training logs have been saved automatically. To visualize them, we can upload the results to [TensorBoard.dev](https://tensorboard.dev/).\n",
    "\n",
    "Uploading your results to TensorBoard.dev enables you to track and share multiple different modelling experiments. So if you needed to show someone your results, you could send them a link to your TensorBoard.dev as well as the accompanying Colab notebook.\n",
    "\n",
    "🔑 Note: These experiments are public, do not upload sensitive data. You can delete experiments if needed."
   ]
  },
  {
   "cell_type": "markdown",
   "metadata": {},
   "source": [
    "### Uploading experiments to TensorBoard\n",
    "\n",
    "To upload a series of TensorFlow logs to TensorBoard, we can use the following command:\n",
    "\n",
    "```\n",
    "Upload TensorBoard dev records\n",
    "\n",
    "!tensorboard dev upload --logdir ./tensorflow_hub/ \\\n",
    "  --name \"EfficientNetB0 vs. ResNet50V2\" \\ \n",
    "  --description \"Comparing two different TF Hub feature extraction models architectures using 10% of training images\" \\ \n",
    "  --one_shot\n",
    "```\n",
    "\n",
    "Where:\n",
    "\n",
    "- ```--logdir``` is the target upload directory\n",
    "- ```--name``` is the name of the experiment\n",
    "- ```--description``` is a brief description of the experiment\n",
    "- ```--one_shot``` exits the TensorBoard uploader once uploading is finished\n",
    "\n",
    "Running the ```tensorboard dev upload``` command will first ask you to authorize the upload to TensorBoard.dev. After you've authorized the upload, your log files will be uploaded.\n"
   ]
  },
  {
   "cell_type": "code",
   "execution_count": null,
   "metadata": {},
   "outputs": [
    {
     "name": "stdout",
     "output_type": "stream",
     "text": [
      "2024-03-06 18:45:05.005381: E external/local_xla/xla/stream_executor/cuda/cuda_dnn.cc:9261] Unable to register cuDNN factory: Attempting to register factory for plugin cuDNN when one has already been registered\n",
      "2024-03-06 18:45:05.005494: E external/local_xla/xla/stream_executor/cuda/cuda_fft.cc:607] Unable to register cuFFT factory: Attempting to register factory for plugin cuFFT when one has already been registered\n",
      "2024-03-06 18:45:05.070826: E external/local_xla/xla/stream_executor/cuda/cuda_blas.cc:1515] Unable to register cuBLAS factory: Attempting to register factory for plugin cuBLAS when one has already been registered\n",
      "2024-03-06 18:45:05.212105: I tensorflow/core/platform/cpu_feature_guard.cc:182] This TensorFlow binary is optimized to use available CPU instructions in performance-critical operations.\n",
      "To enable the following instructions: AVX2 FMA, in other operations, rebuild TensorFlow with the appropriate compiler flags.\n",
      "2024-03-06 18:45:10.471974: I external/local_xla/xla/stream_executor/cuda/cuda_executor.cc:901] successful NUMA node read from SysFS had negative value (-1), but there must be at least one NUMA node, so returning NUMA node zero. See more at https://github.com/torvalds/linux/blob/v6.0/Documentation/ABI/testing/sysfs-bus-pci#L344-L355\n",
      "2024-03-06 18:45:10.686483: I external/local_xla/xla/stream_executor/cuda/cuda_executor.cc:901] successful NUMA node read from SysFS had negative value (-1), but there must be at least one NUMA node, so returning NUMA node zero. See more at https://github.com/torvalds/linux/blob/v6.0/Documentation/ABI/testing/sysfs-bus-pci#L344-L355\n",
      "2024-03-06 18:45:10.686748: I external/local_xla/xla/stream_executor/cuda/cuda_executor.cc:901] successful NUMA node read from SysFS had negative value (-1), but there must be at least one NUMA node, so returning NUMA node zero. See more at https://github.com/torvalds/linux/blob/v6.0/Documentation/ABI/testing/sysfs-bus-pci#L344-L355\n",
      "****************************************************************\n",
      "****************************************************************\n",
      "****************************************************************\n",
      "\n",
      "Uploading TensorBoard logs to https://tensorboard.dev/ is no longer\n",
      "supported.\n",
      "\n",
      "TensorBoard.dev is shutting down.\n",
      "\n",
      "Please export your experiments by Dec 31, 2023.\n",
      "\n",
      "See the FAQ at https://tensorboard.dev.\n",
      "\n",
      "****************************************************************\n",
      "****************************************************************\n",
      "****************************************************************\n"
     ]
    }
   ],
   "source": [
    "# Upload TensorBoard dev records\n",
    "!tensorboard dev upload --logdir ./tensorflow_hub/ \\\n",
    "  --name \"EfficientNetB0 vs. ResNet50V2\" \\\n",
    "  --description \"Comparing two different TF Hub feature extraction models architectures using 10% of training images\" \\\n",
    "  --one_shot"
   ]
  },
  {
   "cell_type": "markdown",
   "metadata": {},
   "source": [
    "Done. View your TensorBoard at https://tensorboard.dev/experiment/dIzMI7IkT7OHD1PmA4mMRQ/\n",
    "\n",
    "Every time you upload something to TensorBoad.dev you'll get a new experiment ID. The experiment ID will look something like this: https://tensorboard.dev/experiment/73taSKxXQeGPQsNBcVvY3g/ (this is the actual experiment from this notebook).\n",
    "\n",
    "If you upload the same directory again, you'll get a new experiment ID to go along with it.\n",
    "\n",
    "This means to track your experiments, you may want to look into how you name your uploads. That way when you find them on TensorBoard.dev you can tell what happened during each experiment (e.g. \"efficientnet0_10_percent_data\")."
   ]
  },
  {
   "cell_type": "code",
   "execution_count": null,
   "metadata": {},
   "outputs": [
    {
     "name": "stdout",
     "output_type": "stream",
     "text": [
      "2024-03-06 18:45:42.002904: E external/local_xla/xla/stream_executor/cuda/cuda_dnn.cc:9261] Unable to register cuDNN factory: Attempting to register factory for plugin cuDNN when one has already been registered\n",
      "2024-03-06 18:45:42.003058: E external/local_xla/xla/stream_executor/cuda/cuda_fft.cc:607] Unable to register cuFFT factory: Attempting to register factory for plugin cuFFT when one has already been registered\n",
      "2024-03-06 18:45:42.004513: E external/local_xla/xla/stream_executor/cuda/cuda_blas.cc:1515] Unable to register cuBLAS factory: Attempting to register factory for plugin cuBLAS when one has already been registered\n",
      "2024-03-06 18:45:42.034575: I tensorflow/core/platform/cpu_feature_guard.cc:182] This TensorFlow binary is optimized to use available CPU instructions in performance-critical operations.\n",
      "To enable the following instructions: AVX2 FMA, in other operations, rebuild TensorFlow with the appropriate compiler flags.\n",
      "usage: tensorboard dev [-h] [--helpfull] [--origin ORIGIN]\n",
      "                       [--api_endpoint API_ENDPOINT]\n",
      "                       [--grpc_creds_type {local,ssl,ssl_dev}]\n",
      "                       [--auth_force_console]\n",
      "                       {upload,update-metadata,delete,list,export,auth} ...\n",
      "tensorboard dev: error: argument {upload,update-metadata,delete,list,export,auth}: invalid choice: 'list#' (choose from 'upload', 'update-metadata', 'delete', 'list', 'export', 'auth')\n"
     ]
    }
   ],
   "source": [
    "# Check out experiments\n",
    "!tensorboard dev list# uncomment to see"
   ]
  }
 ],
 "metadata": {
  "kernelspec": {
   "display_name": "Python 3",
   "language": "python",
   "name": "python3"
  },
  "language_info": {
   "codemirror_mode": {
    "name": "ipython",
    "version": 3
   },
   "file_extension": ".py",
   "mimetype": "text/x-python",
   "name": "python",
   "nbconvert_exporter": "python",
   "pygments_lexer": "ipython3",
   "version": "3.10.0"
  }
 },
 "nbformat": 4,
 "nbformat_minor": 2
}
