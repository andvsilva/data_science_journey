{
 "cells": [
  {
   "cell_type": "code",
   "execution_count": 1,
   "metadata": {},
   "outputs": [],
   "source": [
    "import pandas as pd\n",
    "import numpy as np\n",
    "from sklearn.decomposition import PCA\n",
    "from sklearn.decomposition import KernelPCA\n",
    "from sklearn.manifold import MDS\n",
    "from sklearn.manifold import Isomap\n",
    "from sklearn.manifold import LocallyLinearEmbedding\n",
    "from sklearn.manifold import SpectralEmbedding\n",
    "from sklearn.manifold import TSNE\n",
    "from sklearn.feature_selection import SelectKBest\n",
    "from sklearn.pipeline import make_pipeline\n",
    "import warnings\n",
    "warnings.filterwarnings('ignore')"
   ]
  },
  {
   "cell_type": "code",
   "execution_count": 3,
   "metadata": {},
   "outputs": [],
   "source": [
    "df = pd.read_csv('../dataset/aligned_reduced.csv')"
   ]
  },
  {
   "cell_type": "code",
   "execution_count": 4,
   "metadata": {},
   "outputs": [
    {
     "data": {
      "text/html": [
       "<div>\n",
       "<style scoped>\n",
       "    .dataframe tbody tr th:only-of-type {\n",
       "        vertical-align: middle;\n",
       "    }\n",
       "\n",
       "    .dataframe tbody tr th {\n",
       "        vertical-align: top;\n",
       "    }\n",
       "\n",
       "    .dataframe thead th {\n",
       "        text-align: right;\n",
       "    }\n",
       "</style>\n",
       "<table border=\"1\" class=\"dataframe\">\n",
       "  <thead>\n",
       "    <tr style=\"text-align: right;\">\n",
       "      <th></th>\n",
       "      <th>x1</th>\n",
       "      <th>y1</th>\n",
       "      <th>xVel1</th>\n",
       "      <th>yVel1</th>\n",
       "      <th>xA1</th>\n",
       "      <th>yA1</th>\n",
       "      <th>xS1</th>\n",
       "      <th>yS1</th>\n",
       "      <th>xC1</th>\n",
       "      <th>yC1</th>\n",
       "      <th>...</th>\n",
       "      <th>yVel200</th>\n",
       "      <th>xA200</th>\n",
       "      <th>yA200</th>\n",
       "      <th>xS200</th>\n",
       "      <th>yS200</th>\n",
       "      <th>xC200</th>\n",
       "      <th>yC200</th>\n",
       "      <th>nAC200</th>\n",
       "      <th>nS200</th>\n",
       "      <th>Class</th>\n",
       "    </tr>\n",
       "  </thead>\n",
       "  <tbody>\n",
       "    <tr>\n",
       "      <th>0</th>\n",
       "      <td>-1414.14</td>\n",
       "      <td>-535.22</td>\n",
       "      <td>-17.88</td>\n",
       "      <td>-7.23</td>\n",
       "      <td>0.0</td>\n",
       "      <td>0.0</td>\n",
       "      <td>0.00</td>\n",
       "      <td>0.00</td>\n",
       "      <td>0.0</td>\n",
       "      <td>0.0</td>\n",
       "      <td>...</td>\n",
       "      <td>-16.85</td>\n",
       "      <td>0.00</td>\n",
       "      <td>0.00</td>\n",
       "      <td>0.0</td>\n",
       "      <td>0.00</td>\n",
       "      <td>0.00</td>\n",
       "      <td>0.00</td>\n",
       "      <td>29</td>\n",
       "      <td>0</td>\n",
       "      <td>0</td>\n",
       "    </tr>\n",
       "    <tr>\n",
       "      <th>1</th>\n",
       "      <td>-1406.36</td>\n",
       "      <td>698.39</td>\n",
       "      <td>-16.54</td>\n",
       "      <td>-6.95</td>\n",
       "      <td>-1.0</td>\n",
       "      <td>0.0</td>\n",
       "      <td>-944.07</td>\n",
       "      <td>-396.62</td>\n",
       "      <td>0.0</td>\n",
       "      <td>0.0</td>\n",
       "      <td>...</td>\n",
       "      <td>-12.61</td>\n",
       "      <td>0.00</td>\n",
       "      <td>-1.00</td>\n",
       "      <td>0.0</td>\n",
       "      <td>0.00</td>\n",
       "      <td>0.00</td>\n",
       "      <td>0.00</td>\n",
       "      <td>13</td>\n",
       "      <td>0</td>\n",
       "      <td>0</td>\n",
       "    </tr>\n",
       "    <tr>\n",
       "      <th>2</th>\n",
       "      <td>-1404.81</td>\n",
       "      <td>939.49</td>\n",
       "      <td>-5.44</td>\n",
       "      <td>-2.20</td>\n",
       "      <td>0.0</td>\n",
       "      <td>0.0</td>\n",
       "      <td>0.00</td>\n",
       "      <td>0.00</td>\n",
       "      <td>0.0</td>\n",
       "      <td>0.0</td>\n",
       "      <td>...</td>\n",
       "      <td>-10.69</td>\n",
       "      <td>0.00</td>\n",
       "      <td>0.00</td>\n",
       "      <td>0.0</td>\n",
       "      <td>0.00</td>\n",
       "      <td>0.00</td>\n",
       "      <td>0.00</td>\n",
       "      <td>27</td>\n",
       "      <td>1</td>\n",
       "      <td>0</td>\n",
       "    </tr>\n",
       "    <tr>\n",
       "      <th>3</th>\n",
       "      <td>-1403.15</td>\n",
       "      <td>-350.53</td>\n",
       "      <td>-6.39</td>\n",
       "      <td>0.13</td>\n",
       "      <td>0.0</td>\n",
       "      <td>0.0</td>\n",
       "      <td>0.00</td>\n",
       "      <td>0.00</td>\n",
       "      <td>0.0</td>\n",
       "      <td>0.0</td>\n",
       "      <td>...</td>\n",
       "      <td>0.63</td>\n",
       "      <td>-0.56</td>\n",
       "      <td>0.06</td>\n",
       "      <td>0.0</td>\n",
       "      <td>0.00</td>\n",
       "      <td>0.16</td>\n",
       "      <td>-0.28</td>\n",
       "      <td>30</td>\n",
       "      <td>0</td>\n",
       "      <td>1</td>\n",
       "    </tr>\n",
       "    <tr>\n",
       "      <th>4</th>\n",
       "      <td>-1402.23</td>\n",
       "      <td>259.25</td>\n",
       "      <td>-6.22</td>\n",
       "      <td>14.16</td>\n",
       "      <td>-1.0</td>\n",
       "      <td>0.0</td>\n",
       "      <td>-20.01</td>\n",
       "      <td>60.79</td>\n",
       "      <td>0.0</td>\n",
       "      <td>0.0</td>\n",
       "      <td>...</td>\n",
       "      <td>-9.77</td>\n",
       "      <td>-1.00</td>\n",
       "      <td>1.00</td>\n",
       "      <td>4.0</td>\n",
       "      <td>-0.04</td>\n",
       "      <td>0.00</td>\n",
       "      <td>0.00</td>\n",
       "      <td>18</td>\n",
       "      <td>3</td>\n",
       "      <td>0</td>\n",
       "    </tr>\n",
       "  </tbody>\n",
       "</table>\n",
       "<p>5 rows × 2401 columns</p>\n",
       "</div>"
      ],
      "text/plain": [
       "        x1      y1  xVel1  yVel1  xA1  yA1     xS1     yS1  xC1  yC1  ...  \\\n",
       "0 -1414.14 -535.22 -17.88  -7.23  0.0  0.0    0.00    0.00  0.0  0.0  ...   \n",
       "1 -1406.36  698.39 -16.54  -6.95 -1.0  0.0 -944.07 -396.62  0.0  0.0  ...   \n",
       "2 -1404.81  939.49  -5.44  -2.20  0.0  0.0    0.00    0.00  0.0  0.0  ...   \n",
       "3 -1403.15 -350.53  -6.39   0.13  0.0  0.0    0.00    0.00  0.0  0.0  ...   \n",
       "4 -1402.23  259.25  -6.22  14.16 -1.0  0.0  -20.01   60.79  0.0  0.0  ...   \n",
       "\n",
       "   yVel200  xA200  yA200  xS200  yS200  xC200  yC200  nAC200  nS200  Class  \n",
       "0   -16.85   0.00   0.00    0.0   0.00   0.00   0.00      29      0      0  \n",
       "1   -12.61   0.00  -1.00    0.0   0.00   0.00   0.00      13      0      0  \n",
       "2   -10.69   0.00   0.00    0.0   0.00   0.00   0.00      27      1      0  \n",
       "3     0.63  -0.56   0.06    0.0   0.00   0.16  -0.28      30      0      1  \n",
       "4    -9.77  -1.00   1.00    4.0  -0.04   0.00   0.00      18      3      0  \n",
       "\n",
       "[5 rows x 2401 columns]"
      ]
     },
     "execution_count": 4,
     "metadata": {},
     "output_type": "execute_result"
    }
   ],
   "source": [
    "df.head()"
   ]
  },
  {
   "cell_type": "code",
   "execution_count": 5,
   "metadata": {},
   "outputs": [],
   "source": [
    "y = df.Class\n",
    "X = df.drop('Class',axis=1)"
   ]
  },
  {
   "cell_type": "code",
   "execution_count": 6,
   "metadata": {},
   "outputs": [
    {
     "data": {
      "text/plain": [
       "(6004, 2400)"
      ]
     },
     "execution_count": 6,
     "metadata": {},
     "output_type": "execute_result"
    }
   ],
   "source": [
    "X.shape"
   ]
  },
  {
   "cell_type": "code",
   "execution_count": 7,
   "metadata": {},
   "outputs": [],
   "source": [
    "mdl = make_pipeline(SelectKBest(k=10),PCA(n_components=2))\n",
    "mdl.fit(X,y)\n",
    "X_new = mdl.transform(X)"
   ]
  },
  {
   "cell_type": "code",
   "execution_count": 8,
   "metadata": {},
   "outputs": [
    {
     "data": {
      "text/plain": [
       "(6004, 2)"
      ]
     },
     "execution_count": 8,
     "metadata": {},
     "output_type": "execute_result"
    }
   ],
   "source": [
    "X_new.shape"
   ]
  },
  {
   "cell_type": "code",
   "execution_count": 9,
   "metadata": {},
   "outputs": [],
   "source": [
    "mdl = make_pipeline(SelectKBest(k=10),LocallyLinearEmbedding(n_components=2))\n",
    "mdl.fit(X,y)\n",
    "X_new = mdl.transform(X)"
   ]
  },
  {
   "cell_type": "code",
   "execution_count": 10,
   "metadata": {},
   "outputs": [
    {
     "data": {
      "text/plain": [
       "(6004, 2)"
      ]
     },
     "execution_count": 10,
     "metadata": {},
     "output_type": "execute_result"
    }
   ],
   "source": [
    "X_new.shape"
   ]
  },
  {
   "cell_type": "code",
   "execution_count": 11,
   "metadata": {},
   "outputs": [
    {
     "data": {
      "text/plain": [
       "(6004, 2)"
      ]
     },
     "execution_count": 11,
     "metadata": {},
     "output_type": "execute_result"
    }
   ],
   "source": [
    "mdl = make_pipeline(SelectKBest(k=10),TSNE(n_components=2))\n",
    "#mdl.fit(X,y)\n",
    "X_new = mdl.fit_transform(X,y)\n",
    "X_new.shape"
   ]
  },
  {
   "cell_type": "code",
   "execution_count": 12,
   "metadata": {},
   "outputs": [
    {
     "data": {
      "text/plain": [
       "(6004, 2)"
      ]
     },
     "execution_count": 12,
     "metadata": {},
     "output_type": "execute_result"
    }
   ],
   "source": [
    "mdl = make_pipeline(SelectKBest(k=10),SpectralEmbedding(n_components=2))\n",
    "#mdl.fit(X,y)\n",
    "X_new = mdl.fit_transform(X,y)\n",
    "X_new.shape"
   ]
  },
  {
   "cell_type": "code",
   "execution_count": 13,
   "metadata": {},
   "outputs": [],
   "source": [
    "pca = PCA(n_components=10)\n",
    "pca.fit(X)\n",
    "X_new = pca.transform(X)\n"
   ]
  },
  {
   "cell_type": "code",
   "execution_count": 14,
   "metadata": {},
   "outputs": [
    {
     "data": {
      "text/plain": [
       "(6004, 10)"
      ]
     },
     "execution_count": 14,
     "metadata": {},
     "output_type": "execute_result"
    }
   ],
   "source": [
    "X_new.shape"
   ]
  },
  {
   "cell_type": "code",
   "execution_count": 15,
   "metadata": {},
   "outputs": [],
   "source": [
    "pca = PCA(n_components=0.95)\n",
    "pca.fit(X)\n",
    "X_new = pca.transform(X)"
   ]
  },
  {
   "cell_type": "code",
   "execution_count": 16,
   "metadata": {},
   "outputs": [
    {
     "data": {
      "text/plain": [
       "(6004, 5)"
      ]
     },
     "execution_count": 16,
     "metadata": {},
     "output_type": "execute_result"
    }
   ],
   "source": [
    "X_new.shape"
   ]
  },
  {
   "cell_type": "code",
   "execution_count": 17,
   "metadata": {},
   "outputs": [
    {
     "name": "stdout",
     "output_type": "stream",
     "text": [
      "\u001b[0;31mInit signature:\u001b[0m\n",
      "\u001b[0mPCA\u001b[0m\u001b[0;34m(\u001b[0m\u001b[0;34m\u001b[0m\n",
      "\u001b[0;34m\u001b[0m    \u001b[0mn_components\u001b[0m\u001b[0;34m=\u001b[0m\u001b[0;32mNone\u001b[0m\u001b[0;34m,\u001b[0m\u001b[0;34m\u001b[0m\n",
      "\u001b[0;34m\u001b[0m    \u001b[0;34m*\u001b[0m\u001b[0;34m,\u001b[0m\u001b[0;34m\u001b[0m\n",
      "\u001b[0;34m\u001b[0m    \u001b[0mcopy\u001b[0m\u001b[0;34m=\u001b[0m\u001b[0;32mTrue\u001b[0m\u001b[0;34m,\u001b[0m\u001b[0;34m\u001b[0m\n",
      "\u001b[0;34m\u001b[0m    \u001b[0mwhiten\u001b[0m\u001b[0;34m=\u001b[0m\u001b[0;32mFalse\u001b[0m\u001b[0;34m,\u001b[0m\u001b[0;34m\u001b[0m\n",
      "\u001b[0;34m\u001b[0m    \u001b[0msvd_solver\u001b[0m\u001b[0;34m=\u001b[0m\u001b[0;34m'auto'\u001b[0m\u001b[0;34m,\u001b[0m\u001b[0;34m\u001b[0m\n",
      "\u001b[0;34m\u001b[0m    \u001b[0mtol\u001b[0m\u001b[0;34m=\u001b[0m\u001b[0;36m0.0\u001b[0m\u001b[0;34m,\u001b[0m\u001b[0;34m\u001b[0m\n",
      "\u001b[0;34m\u001b[0m    \u001b[0miterated_power\u001b[0m\u001b[0;34m=\u001b[0m\u001b[0;34m'auto'\u001b[0m\u001b[0;34m,\u001b[0m\u001b[0;34m\u001b[0m\n",
      "\u001b[0;34m\u001b[0m    \u001b[0mrandom_state\u001b[0m\u001b[0;34m=\u001b[0m\u001b[0;32mNone\u001b[0m\u001b[0;34m,\u001b[0m\u001b[0;34m\u001b[0m\n",
      "\u001b[0;34m\u001b[0m\u001b[0;34m)\u001b[0m\u001b[0;34m\u001b[0m\u001b[0;34m\u001b[0m\u001b[0m\n",
      "\u001b[0;31mDocstring:\u001b[0m     \n",
      "Principal component analysis (PCA).\n",
      "\n",
      "Linear dimensionality reduction using Singular Value Decomposition of the\n",
      "data to project it to a lower dimensional space. The input data is centered\n",
      "but not scaled for each feature before applying the SVD.\n",
      "\n",
      "It uses the LAPACK implementation of the full SVD or a randomized truncated\n",
      "SVD by the method of Halko et al. 2009, depending on the shape of the input\n",
      "data and the number of components to extract.\n",
      "\n",
      "It can also use the scipy.sparse.linalg ARPACK implementation of the\n",
      "truncated SVD.\n",
      "\n",
      "Notice that this class does not support sparse input. See\n",
      ":class:`TruncatedSVD` for an alternative with sparse data.\n",
      "\n",
      "Read more in the :ref:`User Guide <PCA>`.\n",
      "\n",
      "Parameters\n",
      "----------\n",
      "n_components : int, float or 'mle', default=None\n",
      "    Number of components to keep.\n",
      "    if n_components is not set all components are kept::\n",
      "\n",
      "        n_components == min(n_samples, n_features)\n",
      "\n",
      "    If ``n_components == 'mle'`` and ``svd_solver == 'full'``, Minka's\n",
      "    MLE is used to guess the dimension. Use of ``n_components == 'mle'``\n",
      "    will interpret ``svd_solver == 'auto'`` as ``svd_solver == 'full'``.\n",
      "\n",
      "    If ``0 < n_components < 1`` and ``svd_solver == 'full'``, select the\n",
      "    number of components such that the amount of variance that needs to be\n",
      "    explained is greater than the percentage specified by n_components.\n",
      "\n",
      "    If ``svd_solver == 'arpack'``, the number of components must be\n",
      "    strictly less than the minimum of n_features and n_samples.\n",
      "\n",
      "    Hence, the None case results in::\n",
      "\n",
      "        n_components == min(n_samples, n_features) - 1\n",
      "\n",
      "copy : bool, default=True\n",
      "    If False, data passed to fit are overwritten and running\n",
      "    fit(X).transform(X) will not yield the expected results,\n",
      "    use fit_transform(X) instead.\n",
      "\n",
      "whiten : bool, default=False\n",
      "    When True (False by default) the `components_` vectors are multiplied\n",
      "    by the square root of n_samples and then divided by the singular values\n",
      "    to ensure uncorrelated outputs with unit component-wise variances.\n",
      "\n",
      "    Whitening will remove some information from the transformed signal\n",
      "    (the relative variance scales of the components) but can sometime\n",
      "    improve the predictive accuracy of the downstream estimators by\n",
      "    making their data respect some hard-wired assumptions.\n",
      "\n",
      "svd_solver : {'auto', 'full', 'arpack', 'randomized'}, default='auto'\n",
      "    If auto :\n",
      "        The solver is selected by a default policy based on `X.shape` and\n",
      "        `n_components`: if the input data is larger than 500x500 and the\n",
      "        number of components to extract is lower than 80% of the smallest\n",
      "        dimension of the data, then the more efficient 'randomized'\n",
      "        method is enabled. Otherwise the exact full SVD is computed and\n",
      "        optionally truncated afterwards.\n",
      "    If full :\n",
      "        run exact full SVD calling the standard LAPACK solver via\n",
      "        `scipy.linalg.svd` and select the components by postprocessing\n",
      "    If arpack :\n",
      "        run SVD truncated to n_components calling ARPACK solver via\n",
      "        `scipy.sparse.linalg.svds`. It requires strictly\n",
      "        0 < n_components < min(X.shape)\n",
      "    If randomized :\n",
      "        run randomized SVD by the method of Halko et al.\n",
      "\n",
      "    .. versionadded:: 0.18.0\n",
      "\n",
      "tol : float, default=0.0\n",
      "    Tolerance for singular values computed by svd_solver == 'arpack'.\n",
      "    Must be of range [0.0, infinity).\n",
      "\n",
      "    .. versionadded:: 0.18.0\n",
      "\n",
      "iterated_power : int or 'auto', default='auto'\n",
      "    Number of iterations for the power method computed by\n",
      "    svd_solver == 'randomized'.\n",
      "    Must be of range [0, infinity).\n",
      "\n",
      "    .. versionadded:: 0.18.0\n",
      "\n",
      "random_state : int, RandomState instance or None, default=None\n",
      "    Used when the 'arpack' or 'randomized' solvers are used. Pass an int\n",
      "    for reproducible results across multiple function calls.\n",
      "    See :term:`Glossary <random_state>`.\n",
      "\n",
      "    .. versionadded:: 0.18.0\n",
      "\n",
      "Attributes\n",
      "----------\n",
      "components_ : ndarray of shape (n_components, n_features)\n",
      "    Principal axes in feature space, representing the directions of\n",
      "    maximum variance in the data. The components are sorted by\n",
      "    ``explained_variance_``.\n",
      "\n",
      "explained_variance_ : ndarray of shape (n_components,)\n",
      "    The amount of variance explained by each of the selected components.\n",
      "    The variance estimation uses `n_samples - 1` degrees of freedom.\n",
      "\n",
      "    Equal to n_components largest eigenvalues\n",
      "    of the covariance matrix of X.\n",
      "\n",
      "    .. versionadded:: 0.18\n",
      "\n",
      "explained_variance_ratio_ : ndarray of shape (n_components,)\n",
      "    Percentage of variance explained by each of the selected components.\n",
      "\n",
      "    If ``n_components`` is not set then all components are stored and the\n",
      "    sum of the ratios is equal to 1.0.\n",
      "\n",
      "singular_values_ : ndarray of shape (n_components,)\n",
      "    The singular values corresponding to each of the selected components.\n",
      "    The singular values are equal to the 2-norms of the ``n_components``\n",
      "    variables in the lower-dimensional space.\n",
      "\n",
      "    .. versionadded:: 0.19\n",
      "\n",
      "mean_ : ndarray of shape (n_features,)\n",
      "    Per-feature empirical mean, estimated from the training set.\n",
      "\n",
      "    Equal to `X.mean(axis=0)`.\n",
      "\n",
      "n_components_ : int\n",
      "    The estimated number of components. When n_components is set\n",
      "    to 'mle' or a number between 0 and 1 (with svd_solver == 'full') this\n",
      "    number is estimated from input data. Otherwise it equals the parameter\n",
      "    n_components, or the lesser value of n_features and n_samples\n",
      "    if n_components is None.\n",
      "\n",
      "n_features_ : int\n",
      "    Number of features in the training data.\n",
      "\n",
      "n_samples_ : int\n",
      "    Number of samples in the training data.\n",
      "\n",
      "noise_variance_ : float\n",
      "    The estimated noise covariance following the Probabilistic PCA model\n",
      "    from Tipping and Bishop 1999. See \"Pattern Recognition and\n",
      "    Machine Learning\" by C. Bishop, 12.2.1 p. 574 or\n",
      "    http://www.miketipping.com/papers/met-mppca.pdf. It is required to\n",
      "    compute the estimated data covariance and score samples.\n",
      "\n",
      "    Equal to the average of (min(n_features, n_samples) - n_components)\n",
      "    smallest eigenvalues of the covariance matrix of X.\n",
      "\n",
      "See Also\n",
      "--------\n",
      "KernelPCA : Kernel Principal Component Analysis.\n",
      "SparsePCA : Sparse Principal Component Analysis.\n",
      "TruncatedSVD : Dimensionality reduction using truncated SVD.\n",
      "IncrementalPCA : Incremental Principal Component Analysis.\n",
      "\n",
      "References\n",
      "----------\n",
      "For n_components == 'mle', this class uses the method from:\n",
      "`Minka, T. P.. \"Automatic choice of dimensionality for PCA\".\n",
      "In NIPS, pp. 598-604 <https://tminka.github.io/papers/pca/minka-pca.pdf>`_\n",
      "\n",
      "Implements the probabilistic PCA model from:\n",
      "`Tipping, M. E., and Bishop, C. M. (1999). \"Probabilistic principal\n",
      "component analysis\". Journal of the Royal Statistical Society:\n",
      "Series B (Statistical Methodology), 61(3), 611-622.\n",
      "<http://www.miketipping.com/papers/met-mppca.pdf>`_\n",
      "via the score and score_samples methods.\n",
      "\n",
      "For svd_solver == 'arpack', refer to `scipy.sparse.linalg.svds`.\n",
      "\n",
      "For svd_solver == 'randomized', see:\n",
      "`Halko, N., Martinsson, P. G., and Tropp, J. A. (2011).\n",
      "\"Finding structure with randomness: Probabilistic algorithms for\n",
      "constructing approximate matrix decompositions\".\n",
      "SIAM review, 53(2), 217-288.\n",
      "<https://doi.org/10.1137/090771806>`_\n",
      "and also\n",
      "`Martinsson, P. G., Rokhlin, V., and Tygert, M. (2011).\n",
      "\"A randomized algorithm for the decomposition of matrices\".\n",
      "Applied and Computational Harmonic Analysis, 30(1), 47-68\n",
      "<https://doi.org/10.1016/j.acha.2010.02.003>`_.\n",
      "\n",
      "Examples\n",
      "--------\n",
      ">>> import numpy as np\n",
      ">>> from sklearn.decomposition import PCA\n",
      ">>> X = np.array([[-1, -1], [-2, -1], [-3, -2], [1, 1], [2, 1], [3, 2]])\n",
      ">>> pca = PCA(n_components=2)\n",
      ">>> pca.fit(X)\n",
      "PCA(n_components=2)\n",
      ">>> print(pca.explained_variance_ratio_)\n",
      "[0.9924... 0.0075...]\n",
      ">>> print(pca.singular_values_)\n",
      "[6.30061... 0.54980...]\n",
      "\n",
      ">>> pca = PCA(n_components=2, svd_solver='full')\n",
      ">>> pca.fit(X)\n",
      "PCA(n_components=2, svd_solver='full')\n",
      ">>> print(pca.explained_variance_ratio_)\n",
      "[0.9924... 0.00755...]\n",
      ">>> print(pca.singular_values_)\n",
      "[6.30061... 0.54980...]\n",
      "\n",
      ">>> pca = PCA(n_components=1, svd_solver='arpack')\n",
      ">>> pca.fit(X)\n",
      "PCA(n_components=1, svd_solver='arpack')\n",
      ">>> print(pca.explained_variance_ratio_)\n",
      "[0.99244...]\n",
      ">>> print(pca.singular_values_)\n",
      "[6.30061...]\n",
      "\u001b[0;31mFile:\u001b[0m           ~/anaconda3/lib/python3.9/site-packages/sklearn/decomposition/_pca.py\n",
      "\u001b[0;31mType:\u001b[0m           ABCMeta\n",
      "\u001b[0;31mSubclasses:\u001b[0m     \n"
     ]
    }
   ],
   "source": [
    "PCA?"
   ]
  },
  {
   "cell_type": "code",
   "execution_count": 18,
   "metadata": {},
   "outputs": [],
   "source": [
    "kpca = KernelPCA(kernel='rbf',n_components=10,gamma=None)\n",
    "kpca.fit(X)\n",
    "X_new = kpca.transform(X)"
   ]
  },
  {
   "cell_type": "code",
   "execution_count": 19,
   "metadata": {},
   "outputs": [
    {
     "data": {
      "text/plain": [
       "(6004, 10)"
      ]
     },
     "execution_count": 19,
     "metadata": {},
     "output_type": "execute_result"
    }
   ],
   "source": [
    "X_new.shape"
   ]
  },
  {
   "cell_type": "code",
   "execution_count": 20,
   "metadata": {},
   "outputs": [],
   "source": [
    "isomap = Isomap(n_components=10)\n",
    "isomap.fit(X)\n",
    "X_new = isomap.transform(X)"
   ]
  }
 ],
 "metadata": {
  "kernelspec": {
   "display_name": "Python 3",
   "language": "python",
   "name": "python3"
  },
  "language_info": {
   "codemirror_mode": {
    "name": "ipython",
    "version": 3
   },
   "file_extension": ".py",
   "mimetype": "text/x-python",
   "name": "python",
   "nbconvert_exporter": "python",
   "pygments_lexer": "ipython3",
   "version": "3.9.7"
  }
 },
 "nbformat": 4,
 "nbformat_minor": 4
}
