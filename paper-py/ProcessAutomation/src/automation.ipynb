{
  "cells": [
    {
      "cell_type": "markdown",
      "metadata": {
        "id": "lsBlArlE35tq"
      },
      "source": [
        "# Automação de Sistemas e Processos com Python\n",
        "\n",
        "### Desafio:\n",
        "\n",
        "Todos os dias, o nosso sistema atualiza as vendas do dia anterior.\n",
        "O seu trabalho diário, como analista, é enviar um e-mail para a diretoria, assim que começar a trabalhar, com o faturamento e a quantidade de produtos vendidos no dia anterior\n",
        "\n",
        "E-mail da diretoria: seugmail+diretoria@gmail.com<br>\n",
        "Local onde o sistema disponibiliza as vendas do dia anterior: https://drive.google.com/drive/folders/149xknr9JvrlEnhNWO49zPcw0PW5icxga?usp=sharing\n",
        "\n",
        "Para resolver isso, vamos usar o pyautogui, uma biblioteca de automação de comandos do mouse e do teclado\n",
        "\n",
        "Referência do pyautogui: https://pyautogui.readthedocs.io/en/latest/quickstart.html"
      ]
    },
    {
      "cell_type": "code",
      "execution_count": 35,
      "metadata": {
        "id": "OBMf05zI35t4"
      },
      "outputs": [],
      "source": [
        "import pyautogui\n",
        "import pyperclip\n",
        "import time\n",
        "import os\n",
        "\n",
        "pyautogui.PAUSE = 1\n",
        "pyautogui.FAILSAFE = False\n",
        "\n",
        "# pyautogui.click -> clicar\n",
        "# pyautogui.press -> apertar 1 tecla\n",
        "# pyautogui.hotkey -> conjunto de teclas\n",
        "# pyautogui.write -> escreve um texto\n",
        "\n",
        "# Passo 1: Entrar no sistema da empresa (no nosso caso é o link do drive)\n",
        "pyautogui.hotkey('ctrl', 't')\n",
        "time.sleep(3)\n",
        "pyperclip.copy(\"https://drive.google.com/drive/folders/149xknr9JvrlEnhNWO49zPcw0PW5icxga?usp=sharing\")\n",
        "pyautogui.hotkey(\"ctrl\", \"v\")\n",
        "time.sleep(3)\n",
        "pyautogui.press(\"enter\")\n",
        "\n",
        "time.sleep(5)\n",
        "\n",
        "# Passo 2: Navegar no sistema e encontrar a base de vendas (entrar na pasta exportar)\n",
        "pyautogui.click(x=1023, y=710, clicks=2)\n",
        "time.sleep(2)\n",
        "\n",
        "# Passo 3: Fazer o download da base de vendas\n",
        "pyautogui.click(x=1100, y=904) # clicar no arquivo\n",
        "pyautogui.click(x=3288, y=411) # clicar nos 3 pontinhos\n",
        "pyautogui.click(x=2716, y=1523) # clicar no fazer download\n",
        "time.sleep(5) # esperar o download acabar"
      ]
    },
    {
      "cell_type": "markdown",
      "metadata": {
        "id": "29om6IpC35t9"
      },
      "source": [
        "### Vamos agora ler o arquivo baixado para pegar os indicadores\n",
        "\n",
        "- Faturamento\n",
        "- Quantidade de Produtos"
      ]
    },
    {
      "cell_type": "code",
      "execution_count": 30,
      "metadata": {
        "id": "nhkDT_sE35t9",
        "outputId": "d8dca00c-e943-4371-fa45-c6a1946ac989"
      },
      "outputs": [
        {
          "ename": "FileNotFoundError",
          "evalue": "[Errno 2] No such file or directory: 'Vendas - Dez.xlsx'",
          "output_type": "error",
          "traceback": [
            "\u001b[0;31m---------------------------------------------------------------------------\u001b[0m",
            "\u001b[0;31mFileNotFoundError\u001b[0m                         Traceback (most recent call last)",
            "\u001b[1;32m/home/andsilva/repo/data_science_journey/paper-py/ProcessAutomation/src/automation.ipynb Cell 4\u001b[0m in \u001b[0;36m<cell line: 4>\u001b[0;34m()\u001b[0m\n\u001b[1;32m      <a href='vscode-notebook-cell:/home/andsilva/repo/data_science_journey/paper-py/ProcessAutomation/src/automation.ipynb#W4sZmlsZQ%3D%3D?line=0'>1</a>\u001b[0m \u001b[39m# Passo 4: Importar a base de vendas pro Python\u001b[39;00m\n\u001b[1;32m      <a href='vscode-notebook-cell:/home/andsilva/repo/data_science_journey/paper-py/ProcessAutomation/src/automation.ipynb#W4sZmlsZQ%3D%3D?line=1'>2</a>\u001b[0m \u001b[39mimport\u001b[39;00m \u001b[39mpandas\u001b[39;00m \u001b[39mas\u001b[39;00m \u001b[39mpd\u001b[39;00m\n\u001b[0;32m----> <a href='vscode-notebook-cell:/home/andsilva/repo/data_science_journey/paper-py/ProcessAutomation/src/automation.ipynb#W4sZmlsZQ%3D%3D?line=3'>4</a>\u001b[0m tabela \u001b[39m=\u001b[39m pd\u001b[39m.\u001b[39;49mread_excel(\u001b[39m\"\u001b[39;49m\u001b[39mVendas - Dez.xlsx\u001b[39;49m\u001b[39m\"\u001b[39;49m)\n\u001b[1;32m      <a href='vscode-notebook-cell:/home/andsilva/repo/data_science_journey/paper-py/ProcessAutomation/src/automation.ipynb#W4sZmlsZQ%3D%3D?line=4'>5</a>\u001b[0m display(tabela)\n",
            "File \u001b[0;32m~/.local/lib/python3.9/site-packages/pandas/util/_decorators.py:311\u001b[0m, in \u001b[0;36mdeprecate_nonkeyword_arguments.<locals>.decorate.<locals>.wrapper\u001b[0;34m(*args, **kwargs)\u001b[0m\n\u001b[1;32m    305\u001b[0m \u001b[39mif\u001b[39;00m \u001b[39mlen\u001b[39m(args) \u001b[39m>\u001b[39m num_allow_args:\n\u001b[1;32m    306\u001b[0m     warnings\u001b[39m.\u001b[39mwarn(\n\u001b[1;32m    307\u001b[0m         msg\u001b[39m.\u001b[39mformat(arguments\u001b[39m=\u001b[39marguments),\n\u001b[1;32m    308\u001b[0m         \u001b[39mFutureWarning\u001b[39;00m,\n\u001b[1;32m    309\u001b[0m         stacklevel\u001b[39m=\u001b[39mstacklevel,\n\u001b[1;32m    310\u001b[0m     )\n\u001b[0;32m--> 311\u001b[0m \u001b[39mreturn\u001b[39;00m func(\u001b[39m*\u001b[39;49margs, \u001b[39m*\u001b[39;49m\u001b[39m*\u001b[39;49mkwargs)\n",
            "File \u001b[0;32m~/.local/lib/python3.9/site-packages/pandas/io/excel/_base.py:457\u001b[0m, in \u001b[0;36mread_excel\u001b[0;34m(io, sheet_name, header, names, index_col, usecols, squeeze, dtype, engine, converters, true_values, false_values, skiprows, nrows, na_values, keep_default_na, na_filter, verbose, parse_dates, date_parser, thousands, decimal, comment, skipfooter, convert_float, mangle_dupe_cols, storage_options)\u001b[0m\n\u001b[1;32m    455\u001b[0m \u001b[39mif\u001b[39;00m \u001b[39mnot\u001b[39;00m \u001b[39misinstance\u001b[39m(io, ExcelFile):\n\u001b[1;32m    456\u001b[0m     should_close \u001b[39m=\u001b[39m \u001b[39mTrue\u001b[39;00m\n\u001b[0;32m--> 457\u001b[0m     io \u001b[39m=\u001b[39m ExcelFile(io, storage_options\u001b[39m=\u001b[39;49mstorage_options, engine\u001b[39m=\u001b[39;49mengine)\n\u001b[1;32m    458\u001b[0m \u001b[39melif\u001b[39;00m engine \u001b[39mand\u001b[39;00m engine \u001b[39m!=\u001b[39m io\u001b[39m.\u001b[39mengine:\n\u001b[1;32m    459\u001b[0m     \u001b[39mraise\u001b[39;00m \u001b[39mValueError\u001b[39;00m(\n\u001b[1;32m    460\u001b[0m         \u001b[39m\"\u001b[39m\u001b[39mEngine should not be specified when passing \u001b[39m\u001b[39m\"\u001b[39m\n\u001b[1;32m    461\u001b[0m         \u001b[39m\"\u001b[39m\u001b[39man ExcelFile - ExcelFile already has the engine set\u001b[39m\u001b[39m\"\u001b[39m\n\u001b[1;32m    462\u001b[0m     )\n",
            "File \u001b[0;32m~/.local/lib/python3.9/site-packages/pandas/io/excel/_base.py:1376\u001b[0m, in \u001b[0;36mExcelFile.__init__\u001b[0;34m(self, path_or_buffer, engine, storage_options)\u001b[0m\n\u001b[1;32m   1374\u001b[0m     ext \u001b[39m=\u001b[39m \u001b[39m\"\u001b[39m\u001b[39mxls\u001b[39m\u001b[39m\"\u001b[39m\n\u001b[1;32m   1375\u001b[0m \u001b[39melse\u001b[39;00m:\n\u001b[0;32m-> 1376\u001b[0m     ext \u001b[39m=\u001b[39m inspect_excel_format(\n\u001b[1;32m   1377\u001b[0m         content_or_path\u001b[39m=\u001b[39;49mpath_or_buffer, storage_options\u001b[39m=\u001b[39;49mstorage_options\n\u001b[1;32m   1378\u001b[0m     )\n\u001b[1;32m   1379\u001b[0m     \u001b[39mif\u001b[39;00m ext \u001b[39mis\u001b[39;00m \u001b[39mNone\u001b[39;00m:\n\u001b[1;32m   1380\u001b[0m         \u001b[39mraise\u001b[39;00m \u001b[39mValueError\u001b[39;00m(\n\u001b[1;32m   1381\u001b[0m             \u001b[39m\"\u001b[39m\u001b[39mExcel file format cannot be determined, you must specify \u001b[39m\u001b[39m\"\u001b[39m\n\u001b[1;32m   1382\u001b[0m             \u001b[39m\"\u001b[39m\u001b[39man engine manually.\u001b[39m\u001b[39m\"\u001b[39m\n\u001b[1;32m   1383\u001b[0m         )\n",
            "File \u001b[0;32m~/.local/lib/python3.9/site-packages/pandas/io/excel/_base.py:1250\u001b[0m, in \u001b[0;36minspect_excel_format\u001b[0;34m(content_or_path, storage_options)\u001b[0m\n\u001b[1;32m   1247\u001b[0m \u001b[39mif\u001b[39;00m \u001b[39misinstance\u001b[39m(content_or_path, \u001b[39mbytes\u001b[39m):\n\u001b[1;32m   1248\u001b[0m     content_or_path \u001b[39m=\u001b[39m BytesIO(content_or_path)\n\u001b[0;32m-> 1250\u001b[0m \u001b[39mwith\u001b[39;00m get_handle(\n\u001b[1;32m   1251\u001b[0m     content_or_path, \u001b[39m\"\u001b[39;49m\u001b[39mrb\u001b[39;49m\u001b[39m\"\u001b[39;49m, storage_options\u001b[39m=\u001b[39;49mstorage_options, is_text\u001b[39m=\u001b[39;49m\u001b[39mFalse\u001b[39;49;00m\n\u001b[1;32m   1252\u001b[0m ) \u001b[39mas\u001b[39;00m handle:\n\u001b[1;32m   1253\u001b[0m     stream \u001b[39m=\u001b[39m handle\u001b[39m.\u001b[39mhandle\n\u001b[1;32m   1254\u001b[0m     stream\u001b[39m.\u001b[39mseek(\u001b[39m0\u001b[39m)\n",
            "File \u001b[0;32m~/.local/lib/python3.9/site-packages/pandas/io/common.py:795\u001b[0m, in \u001b[0;36mget_handle\u001b[0;34m(path_or_buf, mode, encoding, compression, memory_map, is_text, errors, storage_options)\u001b[0m\n\u001b[1;32m    786\u001b[0m         handle \u001b[39m=\u001b[39m \u001b[39mopen\u001b[39m(\n\u001b[1;32m    787\u001b[0m             handle,\n\u001b[1;32m    788\u001b[0m             ioargs\u001b[39m.\u001b[39mmode,\n\u001b[0;32m   (...)\u001b[0m\n\u001b[1;32m    791\u001b[0m             newline\u001b[39m=\u001b[39m\u001b[39m\"\u001b[39m\u001b[39m\"\u001b[39m,\n\u001b[1;32m    792\u001b[0m         )\n\u001b[1;32m    793\u001b[0m     \u001b[39melse\u001b[39;00m:\n\u001b[1;32m    794\u001b[0m         \u001b[39m# Binary mode\u001b[39;00m\n\u001b[0;32m--> 795\u001b[0m         handle \u001b[39m=\u001b[39m \u001b[39mopen\u001b[39;49m(handle, ioargs\u001b[39m.\u001b[39;49mmode)\n\u001b[1;32m    796\u001b[0m     handles\u001b[39m.\u001b[39mappend(handle)\n\u001b[1;32m    798\u001b[0m \u001b[39m# Convert BytesIO or file objects passed with an encoding\u001b[39;00m\n",
            "\u001b[0;31mFileNotFoundError\u001b[0m: [Errno 2] No such file or directory: 'Vendas - Dez.xlsx'"
          ]
        }
      ],
      "source": [
        "# Passo 4: Importar a base de vendas pro Python\n",
        "import pandas as pd\n",
        "\n",
        "tabela = pd.read_excel(\"Vendas - Dez.xlsx\")\n",
        "display(tabela)"
      ]
    },
    {
      "cell_type": "code",
      "execution_count": null,
      "metadata": {
        "id": "s-slqYdz35t-",
        "outputId": "29127952-4430-4e22-d148-0291c2adcbbd"
      },
      "outputs": [
        {
          "name": "stdout",
          "output_type": "stream",
          "text": [
            "2917311\n",
            "15227\n"
          ]
        }
      ],
      "source": [
        "# Passo 5: Calcular os indicadores da empresa\n",
        "faturamento = tabela[\"Valor Final\"].sum()\n",
        "print(faturamento)\n",
        "quantidade = tabela[\"Quantidade\"].sum()\n",
        "print(quantidade)"
      ]
    },
    {
      "cell_type": "markdown",
      "metadata": {
        "id": "gRncBERl35t-"
      },
      "source": [
        "### Vamos agora enviar um e-mail pelo gmail"
      ]
    },
    {
      "cell_type": "code",
      "execution_count": null,
      "metadata": {
        "id": "l8NDwD4u35t_"
      },
      "outputs": [],
      "source": [
        "# Passo 6: Enviar um e-mail para a diretoria com os indicadores de venda\n",
        "\n",
        "# abrir aba\n",
        "pyautogui.hotkey(\"ctrl\", \"t\")\n",
        "\n",
        "# entrar no link do email - https://mail.google.com/mail/u/0/#inbox\n",
        "pyperclip.copy(\"https://mail.google.com/mail/u/0/#inbox\")\n",
        "pyautogui.hotkey(\"ctrl\", \"v\")\n",
        "pyautogui.press(\"enter\")\n",
        "time.sleep(5)\n",
        "\n",
        "# clicar no botão escrever\n",
        "pyautogui.click(x=240, y=415)\n",
        "\n",
        "# preencher as informações do e-mail\n",
        "pyautogui.write(\"pythonimpressionador@gmail.com\")\n",
        "pyautogui.press(\"tab\") # selecionar o email\n",
        "\n",
        "pyautogui.press(\"tab\") # pular para o campo de assunto\n",
        "pyperclip.copy(\"Relatório de Vendas\")\n",
        "pyautogui.hotkey(\"ctrl\", \"v\")\n",
        "\n",
        "pyautogui.press(\"tab\") # pular para o campo de corpo do email\n",
        "\n",
        "texto = f\"\"\"\n",
        "Prezados,\n",
        "\n",
        "Segue relatório de vendas.\n",
        "Faturamento: R${faturamento:,.2f}\n",
        "Quantidade de produtos vendidos: {quantidade:,}\n",
        "\n",
        "Qualquer dúvida estou à disposição.\n",
        "Att.,\n",
        "Lira do Python\n",
        "\"\"\"\n",
        "\n",
        "# formatação dos números (moeda, dinheiro)\n",
        "\n",
        "pyperclip.copy(texto)\n",
        "pyautogui.hotkey(\"ctrl\", \"v\")\n",
        "\n",
        "# enviar o e-mail\n",
        "pyautogui.hotkey(\"ctrl\", \"enter\")"
      ]
    },
    {
      "cell_type": "markdown",
      "metadata": {
        "id": "iOgw3yuY35uA"
      },
      "source": [
        "#### Use esse código para descobrir qual a posição de um item que queira clicar\n",
        "\n",
        "- Lembre-se: a posição na sua tela é diferente da posição na minha tela"
      ]
    },
    {
      "cell_type": "code",
      "execution_count": null,
      "metadata": {
        "id": "BxVQNiv635uA",
        "outputId": "d1caf477-8800-4916-bf54-c3afd0571195"
      },
      "outputs": [
        {
          "data": {
            "text/plain": [
              "Point(x=1274, y=1182)"
            ]
          },
          "execution_count": 52,
          "metadata": {},
          "output_type": "execute_result"
        }
      ],
      "source": [
        "time.sleep(5)\n",
        "pyautogui.position()"
      ]
    },
    {
      "cell_type": "code",
      "execution_count": null,
      "metadata": {
        "id": "OmVl3oid35uE"
      },
      "outputs": [],
      "source": []
    }
  ],
  "metadata": {
    "colab": {
      "provenance": []
    },
    "kernelspec": {
      "display_name": "Python 3",
      "language": "python",
      "name": "python3"
    },
    "language_info": {
      "codemirror_mode": {
        "name": "ipython",
        "version": 3
      },
      "file_extension": ".py",
      "mimetype": "text/x-python",
      "name": "python",
      "nbconvert_exporter": "python",
      "pygments_lexer": "ipython3",
      "version": "3.9.10 (main, Jul 10 2022, 21:54:43) \n[GCC 9.4.0]"
    },
    "vscode": {
      "interpreter": {
        "hash": "aee8b7b246df8f9039afb4144a1f6fd8d2ca17a180786b69acc140d282b71a49"
      }
    }
  },
  "nbformat": 4,
  "nbformat_minor": 0
}
