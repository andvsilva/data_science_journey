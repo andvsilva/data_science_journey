{
  "cells": [
    {
      "cell_type": "markdown",
      "metadata": {
        "id": "6c0Hf-Y26P5Z"
      },
      "source": [
        "# Automação de Sistemas e Processos com Python\n",
        "\n",
        "### Desafio:\n",
        "\n",
        "Todos os dias, o nosso sistema atualiza as vendas do dia anterior.\n",
        "O seu trabalho diário, como analista, é enviar um e-mail para a diretoria, assim que começar a trabalhar, com o faturamento e a quantidade de produtos vendidos no dia anterior\n",
        "\n",
        "E-mail da diretoria: seugmail+diretoria@gmail.com<br>\n",
        "Local onde o sistema disponibiliza as vendas do dia anterior: https://drive.google.com/drive/folders/149xknr9JvrlEnhNWO49zPcw0PW5icxga?usp=sharing\n",
        "\n",
        "Para resolver isso, vamos usar o pyautogui, uma biblioteca de automação de comandos do mouse e do teclado\n",
        "\n",
        "Comandos pyautogui: https://pyautogui.readthedocs.io/en/latest/quickstart.html"
      ]
    },
    {
      "cell_type": "code",
      "execution_count": 1,
      "metadata": {
        "id": "gTNRhkYH6P5t"
      },
      "outputs": [],
      "source": [
        "import pyautogui\n",
        "import pyperclip\n",
        "import time\n",
        "\n",
        "pyautogui.FAILSAFE = False\n",
        "\n",
        "pyautogui.PAUSE = 1\n",
        "\n",
        "# Passo 1: Entrar no sistema (no nosso caso, entrar no link)\n",
        "pyautogui.hotkey(\"ctrl\", \"t\")\n",
        "pyperclip.copy(\"https://drive.google.com/drive/folders/149xknr9JvrlEnhNWO49zPcw0PW5icxga?usp=sharing\")\n",
        "pyautogui.hotkey(\"ctrl\", \"v\")\n",
        "pyautogui.press(\"enter\")\n",
        "\n",
        "time.sleep(5)\n",
        "\n",
        "# Passo 2: Navegar até o local do relatório (entrar na pasta Exportar)\n",
        "pyautogui.click(x=878, y=676, clicks=2)\n",
        "time.sleep(2)\n",
        "\n",
        "# Passo 3: Fazer o download do n\n",
        "pyautogui.click(x=1000, y=919)\n",
        "pyautogui.click(x=3323, y=406)\n",
        "pyautogui.click(x=2748, y=1529)\n",
        "time.sleep(5)"
      ]
    },
    {
      "cell_type": "markdown",
      "metadata": {
        "id": "aXYhGiRD6P5w"
      },
      "source": [
        "### Vamos agora ler o arquivo baixado para pegar os indicadores\n",
        "\n",
        "- Faturamento\n",
        "- Quantidade de Produtos"
      ]
    },
    {
      "cell_type": "markdown",
      "metadata": {},
      "source": []
    },
    {
      "cell_type": "code",
      "execution_count": 2,
      "metadata": {
        "id": "1qVahlHA6P5x",
        "outputId": "a02e4680-e9da-4564-aaa7-e49aafc18409"
      },
      "outputs": [
        {
          "data": {
            "text/html": [
              "<div>\n",
              "<style scoped>\n",
              "    .dataframe tbody tr th:only-of-type {\n",
              "        vertical-align: middle;\n",
              "    }\n",
              "\n",
              "    .dataframe tbody tr th {\n",
              "        vertical-align: top;\n",
              "    }\n",
              "\n",
              "    .dataframe thead th {\n",
              "        text-align: right;\n",
              "    }\n",
              "</style>\n",
              "<table border=\"1\" class=\"dataframe\">\n",
              "  <thead>\n",
              "    <tr style=\"text-align: right;\">\n",
              "      <th></th>\n",
              "      <th>Código Venda</th>\n",
              "      <th>Data</th>\n",
              "      <th>ID Loja</th>\n",
              "      <th>Produto</th>\n",
              "      <th>Quantidade</th>\n",
              "      <th>Valor Unitário</th>\n",
              "      <th>Valor Final</th>\n",
              "    </tr>\n",
              "  </thead>\n",
              "  <tbody>\n",
              "    <tr>\n",
              "      <th>0</th>\n",
              "      <td>65014</td>\n",
              "      <td>2019-12-01</td>\n",
              "      <td>Shopping Morumbi</td>\n",
              "      <td>Sunga Listrado</td>\n",
              "      <td>5</td>\n",
              "      <td>114</td>\n",
              "      <td>570</td>\n",
              "    </tr>\n",
              "    <tr>\n",
              "      <th>1</th>\n",
              "      <td>65014</td>\n",
              "      <td>2019-12-01</td>\n",
              "      <td>Shopping Morumbi</td>\n",
              "      <td>Casaco Listrado</td>\n",
              "      <td>1</td>\n",
              "      <td>269</td>\n",
              "      <td>269</td>\n",
              "    </tr>\n",
              "    <tr>\n",
              "      <th>2</th>\n",
              "      <td>65016</td>\n",
              "      <td>2019-12-01</td>\n",
              "      <td>Iguatemi Campinas</td>\n",
              "      <td>Sapato Listrado</td>\n",
              "      <td>2</td>\n",
              "      <td>363</td>\n",
              "      <td>726</td>\n",
              "    </tr>\n",
              "    <tr>\n",
              "      <th>3</th>\n",
              "      <td>65016</td>\n",
              "      <td>2019-12-01</td>\n",
              "      <td>Iguatemi Campinas</td>\n",
              "      <td>Casaco</td>\n",
              "      <td>1</td>\n",
              "      <td>250</td>\n",
              "      <td>250</td>\n",
              "    </tr>\n",
              "    <tr>\n",
              "      <th>4</th>\n",
              "      <td>65017</td>\n",
              "      <td>2019-12-01</td>\n",
              "      <td>Shopping SP Market</td>\n",
              "      <td>Gorro Liso</td>\n",
              "      <td>3</td>\n",
              "      <td>92</td>\n",
              "      <td>276</td>\n",
              "    </tr>\n",
              "    <tr>\n",
              "      <th>...</th>\n",
              "      <td>...</td>\n",
              "      <td>...</td>\n",
              "      <td>...</td>\n",
              "      <td>...</td>\n",
              "      <td>...</td>\n",
              "      <td>...</td>\n",
              "      <td>...</td>\n",
              "    </tr>\n",
              "    <tr>\n",
              "      <th>7084</th>\n",
              "      <td>69996</td>\n",
              "      <td>2019-12-26</td>\n",
              "      <td>Center Shopping Uberlândia</td>\n",
              "      <td>Short Listrado</td>\n",
              "      <td>2</td>\n",
              "      <td>102</td>\n",
              "      <td>204</td>\n",
              "    </tr>\n",
              "    <tr>\n",
              "      <th>7085</th>\n",
              "      <td>69996</td>\n",
              "      <td>2019-12-26</td>\n",
              "      <td>Center Shopping Uberlândia</td>\n",
              "      <td>Mochila</td>\n",
              "      <td>4</td>\n",
              "      <td>270</td>\n",
              "      <td>1080</td>\n",
              "    </tr>\n",
              "    <tr>\n",
              "      <th>7086</th>\n",
              "      <td>69996</td>\n",
              "      <td>2019-12-26</td>\n",
              "      <td>Center Shopping Uberlândia</td>\n",
              "      <td>Pulseira Estampa</td>\n",
              "      <td>1</td>\n",
              "      <td>87</td>\n",
              "      <td>87</td>\n",
              "    </tr>\n",
              "    <tr>\n",
              "      <th>7087</th>\n",
              "      <td>69997</td>\n",
              "      <td>2019-12-26</td>\n",
              "      <td>Ribeirão Shopping</td>\n",
              "      <td>Camisa Listrado</td>\n",
              "      <td>1</td>\n",
              "      <td>108</td>\n",
              "      <td>108</td>\n",
              "    </tr>\n",
              "    <tr>\n",
              "      <th>7088</th>\n",
              "      <td>69997</td>\n",
              "      <td>2019-12-26</td>\n",
              "      <td>Ribeirão Shopping</td>\n",
              "      <td>Short Linho</td>\n",
              "      <td>2</td>\n",
              "      <td>133</td>\n",
              "      <td>266</td>\n",
              "    </tr>\n",
              "  </tbody>\n",
              "</table>\n",
              "<p>7089 rows × 7 columns</p>\n",
              "</div>"
            ],
            "text/plain": [
              "      Código Venda       Data                     ID Loja           Produto  \\\n",
              "0            65014 2019-12-01            Shopping Morumbi    Sunga Listrado   \n",
              "1            65014 2019-12-01            Shopping Morumbi   Casaco Listrado   \n",
              "2            65016 2019-12-01           Iguatemi Campinas   Sapato Listrado   \n",
              "3            65016 2019-12-01           Iguatemi Campinas            Casaco   \n",
              "4            65017 2019-12-01          Shopping SP Market        Gorro Liso   \n",
              "...            ...        ...                         ...               ...   \n",
              "7084         69996 2019-12-26  Center Shopping Uberlândia    Short Listrado   \n",
              "7085         69996 2019-12-26  Center Shopping Uberlândia           Mochila   \n",
              "7086         69996 2019-12-26  Center Shopping Uberlândia  Pulseira Estampa   \n",
              "7087         69997 2019-12-26           Ribeirão Shopping   Camisa Listrado   \n",
              "7088         69997 2019-12-26           Ribeirão Shopping       Short Linho   \n",
              "\n",
              "      Quantidade  Valor Unitário  Valor Final  \n",
              "0              5             114          570  \n",
              "1              1             269          269  \n",
              "2              2             363          726  \n",
              "3              1             250          250  \n",
              "4              3              92          276  \n",
              "...          ...             ...          ...  \n",
              "7084           2             102          204  \n",
              "7085           4             270         1080  \n",
              "7086           1              87           87  \n",
              "7087           1             108          108  \n",
              "7088           2             133          266  \n",
              "\n",
              "[7089 rows x 7 columns]"
            ]
          },
          "metadata": {},
          "output_type": "display_data"
        }
      ],
      "source": [
        "# Passo 4: Calcular os indicadores\n",
        "import pandas as pd\n",
        "\n",
        "tabela = pd.read_excel(\"Vendas - Dez.xlsx\")\n",
        "display(tabela)\n",
        "faturamento = tabela[\"Valor Final\"].sum()\n",
        "quantidade = tabela[\"Quantidade\"].sum()"
      ]
    },
    {
      "cell_type": "markdown",
      "metadata": {
        "id": "h3lpqOan6P5y"
      },
      "source": [
        "### Vamos agora enviar um e-mail pelo gmail"
      ]
    },
    {
      "cell_type": "code",
      "execution_count": 3,
      "metadata": {
        "id": "suhpFCVF6P5y"
      },
      "outputs": [],
      "source": [
        "# Passo 5: Entrar no email\n",
        "pyautogui.hotkey(\"ctrl\", \"t\")\n",
        "pyperclip.copy(\"https://mail.google.com/mail/u/0/#inbox\")\n",
        "pyautogui.hotkey(\"ctrl\", \"v\")\n",
        "pyautogui.press(\"enter\")\n",
        "time.sleep(5)\n",
        "\n",
        "# Passo 6: Enviar por e-mail o resultado\n",
        "pyautogui.click(x=86, y=434)\n",
        "time.sleep(4)\n",
        "\n",
        "pyautogui.write(\"pythonimpressionador+diretoria@gmail.com\")\n",
        "pyautogui.press(\"tab\") # seleciona o email\n",
        "# escreve outro email\n",
        "# tab\n",
        "# escreve outro email\n",
        "# tab\n",
        "pyautogui.press(\"tab\") # pula pro campo de assunto\n",
        "pyperclip.copy(\"Relatório de Vendas\")\n",
        "pyautogui.hotkey(\"ctrl\", \"v\") # escrever o assunto\n",
        "pyautogui.press(\"tab\") #pular pro corpo do email\n",
        "\n",
        "texto = f\"\"\"\n",
        "Prezados, bom dia\n",
        "\n",
        "O faturamento de ontem foi de: R${faturamento:,.2f}\n",
        "A quantidade de produtos foi de: {quantidade:,}\n",
        "\n",
        "Abs\n",
        "LiraPython\"\"\"\n",
        "\n",
        "pyperclip.copy(texto)\n",
        "pyautogui.hotkey(\"ctrl\", \"v\")\n",
        "\n",
        "# clicar no botão enviar\n",
        "\n",
        "# apertar Ctrl Enter\n",
        "pyautogui.hotkey(\"ctrl\", \"enter\")"
      ]
    },
    {
      "cell_type": "markdown",
      "metadata": {
        "id": "rEapH_976P54"
      },
      "source": [
        "#### Use esse código para descobrir qual a posição de um item que queira clicar\n",
        "\n",
        "- Lembre-se: a posição na sua tela é diferente da posição na minha tela"
      ]
    },
    {
      "cell_type": "code",
      "execution_count": 4,
      "metadata": {
        "id": "4rMqHWhW6P55",
        "outputId": "aded5d8e-a86e-47da-c04d-0aadc8368461"
      },
      "outputs": [
        {
          "data": {
            "text/plain": [
              "Point(x=611, y=502)"
            ]
          },
          "execution_count": 4,
          "metadata": {},
          "output_type": "execute_result"
        }
      ],
      "source": [
        "time.sleep(5)\n",
        "pyautogui.position()"
      ]
    },
    {
      "cell_type": "code",
      "execution_count": 5,
      "metadata": {
        "id": "-4KtGvAQ6P55",
        "outputId": "edb94616-04ba-46ae-ce71-0654ed485180"
      },
      "outputs": [
        {
          "name": "stdout",
          "output_type": "stream",
          "text": [
            "Requirement already satisfied: pyautogui in /home/andsilva/anaconda3/lib/python3.7/site-packages (0.9.53)\n",
            "Requirement already satisfied: python3-Xlib; platform_system == \"Linux\" and python_version >= \"3.0\" in /home/andsilva/anaconda3/lib/python3.7/site-packages (from pyautogui) (0.15)\n",
            "Requirement already satisfied: PyTweening>=1.0.1 in /home/andsilva/anaconda3/lib/python3.7/site-packages (from pyautogui) (1.0.4)\n",
            "Requirement already satisfied: mouseinfo in /home/andsilva/anaconda3/lib/python3.7/site-packages (from pyautogui) (0.1.3)\n",
            "Requirement already satisfied: pymsgbox in /home/andsilva/anaconda3/lib/python3.7/site-packages (from pyautogui) (1.0.9)\n",
            "Requirement already satisfied: pygetwindow>=0.0.5 in /home/andsilva/anaconda3/lib/python3.7/site-packages (from pyautogui) (0.0.9)\n",
            "Requirement already satisfied: pyscreeze>=0.1.21 in /home/andsilva/anaconda3/lib/python3.7/site-packages (from pyautogui) (0.1.28)\n",
            "Requirement already satisfied: pyperclip in /home/andsilva/anaconda3/lib/python3.7/site-packages (from mouseinfo->pyautogui) (1.8.2)\n",
            "Requirement already satisfied: Pillow>=5.2.0; python_version == \"3.7\" in /home/andsilva/anaconda3/lib/python3.7/site-packages (from mouseinfo->pyautogui) (7.0.0)\n",
            "Requirement already satisfied: pyrect in /home/andsilva/anaconda3/lib/python3.7/site-packages (from pygetwindow>=0.0.5->pyautogui) (0.2.0)\n",
            "Requirement already satisfied: pyperclip in /home/andsilva/anaconda3/lib/python3.7/site-packages (1.8.2)\n"
          ]
        }
      ],
      "source": [
        "# Como instalar\n",
        "!pip install pyautogui\n",
        "!pip install pyperclip"
      ]
    },
    {
      "cell_type": "code",
      "execution_count": null,
      "metadata": {
        "id": "UINzVo7A6P55"
      },
      "outputs": [],
      "source": []
    }
  ],
  "metadata": {
    "colab": {
      "name": "Aula 1 - Gabarito.ipynb",
      "provenance": []
    },
    "kernelspec": {
      "display_name": "Python 3.7.6 ('base')",
      "language": "python",
      "name": "python3"
    },
    "language_info": {
      "codemirror_mode": {
        "name": "ipython",
        "version": 3
      },
      "file_extension": ".py",
      "mimetype": "text/x-python",
      "name": "python",
      "nbconvert_exporter": "python",
      "pygments_lexer": "ipython3",
      "version": "3.7.6"
    },
    "vscode": {
      "interpreter": {
        "hash": "e9fdd6a906b0a436d5024ede8a58cdb85cf91b189ffbb474863b8f211ce55112"
      }
    }
  },
  "nbformat": 4,
  "nbformat_minor": 0
}
